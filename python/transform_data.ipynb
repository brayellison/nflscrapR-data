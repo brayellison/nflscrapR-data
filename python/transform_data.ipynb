{
 "cells": [
  {
   "cell_type": "code",
   "execution_count": 4,
   "metadata": {},
   "outputs": [
    {
     "name": "stderr",
     "output_type": "stream",
     "text": [
      "Downloading https://repo1.maven.org/maven2/net/postgis/postgis-jdbc/2.2.1/postgis-jdbc-2.2.1.pom\n",
      "Downloaded https://repo1.maven.org/maven2/net/postgis/postgis-jdbc/2.2.1/postgis-jdbc-2.2.1.pom\n",
      "Downloading https://repo1.maven.org/maven2/net/postgis/postgis-java-aggregator/2.2.1/postgis-java-aggregator-2.2.1.pom\n",
      "Downloaded https://repo1.maven.org/maven2/net/postgis/postgis-java-aggregator/2.2.1/postgis-java-aggregator-2.2.1.pom\n",
      "Downloading https://repo1.maven.org/maven2/org/postgresql/postgresql/maven-metadata.xml\n",
      "Downloaded https://repo1.maven.org/maven2/org/postgresql/postgresql/maven-metadata.xml\n",
      "Downloading https://repo1.maven.org/maven2/org/postgresql/postgresql/42.2.14.jre7/postgresql-42.2.14.jre7.pom\n",
      "Downloaded https://repo1.maven.org/maven2/org/postgresql/postgresql/42.2.14.jre7/postgresql-42.2.14.jre7.pom\n",
      "Downloading https://repo1.maven.org/maven2/net/postgis/postgis-jdbc/2.2.1/postgis-jdbc-2.2.1-sources.jar\n",
      "Downloading https://repo1.maven.org/maven2/net/postgis/postgis-jdbc/2.2.1/postgis-jdbc-2.2.1.jar\n",
      "Downloading https://repo1.maven.org/maven2/org/postgresql/postgresql/42.2.14.jre7/postgresql-42.2.14.jre7.jar\n",
      "Downloading https://repo1.maven.org/maven2/org/postgresql/postgresql/42.2.14.jre7/postgresql-42.2.14.jre7-sources.jar\n",
      "Downloaded https://repo1.maven.org/maven2/net/postgis/postgis-jdbc/2.2.1/postgis-jdbc-2.2.1-sources.jar\n",
      "Downloaded https://repo1.maven.org/maven2/net/postgis/postgis-jdbc/2.2.1/postgis-jdbc-2.2.1.jar\n",
      "Downloaded https://repo1.maven.org/maven2/org/postgresql/postgresql/42.2.14.jre7/postgresql-42.2.14.jre7.jar\n",
      "Downloaded https://repo1.maven.org/maven2/org/postgresql/postgresql/42.2.14.jre7/postgresql-42.2.14.jre7-sources.jar\n"
     ]
    },
    {
     "data": {
      "text/plain": [
       "\u001b[32mimport \u001b[39m\u001b[36m$ivy.$                                  \n",
       "\u001b[39m\n",
       "\u001b[32mimport \u001b[39m\u001b[36m$ivy.$                                      \n",
       "\u001b[39m\n",
       "\u001b[32mimport \u001b[39m\u001b[36m$ivy.$                                 \n",
       "\u001b[39m\n",
       "\u001b[32mimport \u001b[39m\u001b[36m$ivy.$                               \n",
       "\u001b[39m\n",
       "\u001b[32mimport \u001b[39m\u001b[36morg.apache.log4j.{Level, Logger}\n",
       "\u001b[39m\n",
       "\u001b[32mimport \u001b[39m\u001b[36morg.apache.spark.sql._\n",
       "\u001b[39m\n",
       "\u001b[32mimport \u001b[39m\u001b[36morg.apache.spark.sql.functions._\u001b[39m"
      ]
     },
     "execution_count": 4,
     "metadata": {},
     "output_type": "execute_result"
    }
   ],
   "source": [
    "import $ivy.`org.apache.spark::spark-sql:3.0.0`\n",
    "import $ivy.`org.plotly-scala::plotly-almond:0.7.6`\n",
    "import $ivy.`org.postgresql:postgresql:42.2.5`\n",
    "import $ivy.`net.postgis:postgis-jdbc:2.2.1`\n",
    "import org.apache.log4j.{Level, Logger}\n",
    "Logger.getLogger(\"org\").setLevel(Level.OFF)\n",
    "import org.apache.spark.sql._\n",
    "import org.apache.spark.sql.functions._"
   ]
  },
  {
   "cell_type": "code",
   "execution_count": 2,
   "metadata": {},
   "outputs": [
    {
     "data": {
      "text/plain": [
       "defined \u001b[32mclass\u001b[39m \u001b[36mRichDF\u001b[39m"
      ]
     },
     "execution_count": 2,
     "metadata": {},
     "output_type": "execute_result"
    }
   ],
   "source": [
    "implicit class RichDF(val ds:DataFrame) {\n",
    "    def showHTML(limit:Int = 20, truncate: Int = 20) = {\n",
    "        import xml.Utility.escape\n",
    "        val data = ds.take(limit)\n",
    "        val header = ds.schema.fieldNames.toSeq        \n",
    "        val rows: Seq[Seq[String]] = data.map { row =>\n",
    "          row.toSeq.map { cell =>\n",
    "            val str = cell match {\n",
    "              case null => \"null\"\n",
    "              case binary: Array[Byte] => binary.map(\"%02X\".format(_)).mkString(\"[\", \" \", \"]\")\n",
    "              case array: Array[_] => array.mkString(\"[\", \", \", \"]\")\n",
    "              case seq: Seq[_] => seq.mkString(\"[\", \", \", \"]\")\n",
    "              case _ => cell.toString\n",
    "            }\n",
    "            if (truncate > 0 && str.length > truncate) {\n",
    "              // do not show ellipses for strings shorter than 4 characters.\n",
    "              if (truncate < 4) str.substring(0, truncate)\n",
    "              else str.substring(0, truncate - 3) + \"...\"\n",
    "            } else {\n",
    "              str\n",
    "            }\n",
    "          }: Seq[String]\n",
    "        }\n",
    "\n",
    "        publish.html(s\"\"\" <table>\n",
    "                <tr>\n",
    "                 ${header.map(h => s\"<th>${escape(h)}</th>\").mkString}\n",
    "                </tr>\n",
    "                ${rows.map { row =>\n",
    "                  s\"<tr>${row.map{c => s\"<td>${escape(c)}</td>\" }.mkString}</tr>\"\n",
    "                }.mkString}\n",
    "            </table>\n",
    "        \"\"\")        \n",
    "    }\n",
    "}"
   ]
  },
  {
   "cell_type": "code",
   "execution_count": null,
   "metadata": {},
   "outputs": [],
   "source": []
  },
  {
   "cell_type": "code",
   "execution_count": 5,
   "metadata": {},
   "outputs": [
    {
     "name": "stdout",
     "output_type": "stream",
     "text": [
      "Loading spark-stubs\n"
     ]
    },
    {
     "name": "stderr",
     "output_type": "stream",
     "text": [
      "Downloading https://repo1.maven.org/maven2/sh/almond/spark-stubs_30_2.12/0.10.1/spark-stubs_30_2.12-0.10.1.pom\n",
      "Downloaded https://repo1.maven.org/maven2/sh/almond/spark-stubs_30_2.12/0.10.1/spark-stubs_30_2.12-0.10.1.pom\n",
      "Downloading https://repo1.maven.org/maven2/sh/almond/spark-stubs_30_2.12/0.10.1/spark-stubs_30_2.12-0.10.1-sources.jar\n",
      "Downloading https://repo1.maven.org/maven2/sh/almond/spark-stubs_30_2.12/0.10.1/spark-stubs_30_2.12-0.10.1.jar\n",
      "Downloaded https://repo1.maven.org/maven2/sh/almond/spark-stubs_30_2.12/0.10.1/spark-stubs_30_2.12-0.10.1-sources.jar\n",
      "Downloaded https://repo1.maven.org/maven2/sh/almond/spark-stubs_30_2.12/0.10.1/spark-stubs_30_2.12-0.10.1.jar\n"
     ]
    },
    {
     "name": "stdout",
     "output_type": "stream",
     "text": [
      "Creating SparkSession\n"
     ]
    },
    {
     "name": "stderr",
     "output_type": "stream",
     "text": [
      "Using Spark's default log4j profile: org/apache/spark/log4j-defaults.properties\n"
     ]
    },
    {
     "data": {
      "text/html": [
       "<a target=\"_blank\" href=\"http://192.168.1.4:4040\">Spark UI</a>"
      ]
     },
     "metadata": {},
     "output_type": "display_data"
    },
    {
     "data": {
      "text/plain": [
       "\u001b[36mspark\u001b[39m: \u001b[32mSparkSession\u001b[39m = org.apache.spark.sql.SparkSession@76a88de2\n",
       "\u001b[32mimport \u001b[39m\u001b[36mspark.implicits._\u001b[39m"
      ]
     },
     "execution_count": 5,
     "metadata": {},
     "output_type": "execute_result"
    }
   ],
   "source": [
    "val spark = NotebookSparkSession\n",
    "    .builder\n",
    "    .master(\"local\")\n",
    "    .appName(\"jupyter-scala\")\n",
    "    .getOrCreate\n",
    "\n",
    "import spark.implicits._"
   ]
  },
  {
   "cell_type": "code",
   "execution_count": 11,
   "metadata": {},
   "outputs": [
    {
     "data": {
      "text/plain": [
       "defined \u001b[32mfunction\u001b[39m \u001b[36mstackGames\u001b[39m\n",
       "\u001b[36mseasonTypes\u001b[39m: \u001b[32mSeq\u001b[39m[\u001b[32mString\u001b[39m] = \u001b[33mList\u001b[39m(\u001b[32m\"post_season\"\u001b[39m, \u001b[32m\"pre_season\"\u001b[39m, \u001b[32m\"regular_season\"\u001b[39m)\n",
       "\u001b[36mdataTypes\u001b[39m: \u001b[32mSeq\u001b[39m[\u001b[32mString\u001b[39m] = \u001b[33mList\u001b[39m(\u001b[32m\"games_data\"\u001b[39m, \u001b[32m\"play_by_play_data\"\u001b[39m, \u001b[32m\"roster_data\"\u001b[39m)"
      ]
     },
     "execution_count": 11,
     "metadata": {},
     "output_type": "execute_result"
    }
   ],
   "source": [
    "def stackGames(dataType:String, seasonType: String) = {\n",
    "    val regGames = spark.read\n",
    "        .option(\"inferSchema\", \"true\")\n",
    "        .option(\"header\", \"true\")\n",
    "        .csv(s\"../$dataType/$seasonType/*.csv\")\n",
    "    \n",
    "    val teamGameScore = if (dataType == \"games_data\") {\n",
    "        val keepCols = regGames.columns.filterNot(x => x.startsWith(\"away\") || x.startsWith(\"home\")).map(col)\n",
    "        val structCol = \n",
    "            explode(array(\n",
    "                struct(\n",
    "                    $\"home_team\" as \"team\",\n",
    "                    $\"home_score\" as \"score\",\n",
    "                    lit(1) as \"home\"\n",
    "                ),\n",
    "                struct(\n",
    "                    $\"away_team\" as \"team\",\n",
    "                    $\"away_score\" as \"score\",\n",
    "                    lit(0) as \"home\"\n",
    "                )\n",
    "            )) as \"team_score\"\n",
    "        regGames.select((keepCols :+ structCol): _*)\n",
    "            .select((keepCols :+ $\"team_score.*\"): _*)\n",
    "    } else {\n",
    "        regGames\n",
    "    }\n",
    "    \n",
    "    teamGameScore.write.mode(\"overwrite\").parquet(s\"../$dataType/$seasonType/stackedGames\")\n",
    "    teamGameScore\n",
    "}\n",
    "\n",
    "val seasonTypes = Seq(\"post_season\", \"pre_season\", \"regular_season\")\n",
    "val dataTypes = Seq(\"games_data\", \"play_by_play_data\", \"roster_data\")"
   ]
  },
  {
   "cell_type": "code",
   "execution_count": 10,
   "metadata": {},
   "outputs": [
    {
     "data": {
      "text/plain": [
       "\u001b[36mres9\u001b[39m: \u001b[32mSeq\u001b[39m[\u001b[32mInt\u001b[39m] = \u001b[33mList\u001b[39m(\u001b[32m1\u001b[39m, \u001b[32m2\u001b[39m)"
      ]
     },
     "execution_count": 10,
     "metadata": {},
     "output_type": "execute_result"
    }
   ],
   "source": [
    "Seq(1) ++ Seq(2)"
   ]
  },
  {
   "cell_type": "code",
   "execution_count": 13,
   "metadata": {},
   "outputs": [
    {
     "data": {
      "text/html": [
       "<div>\n",
       "  <span style=\"float: left;\">csv at cmd10.sc:5</span>\n",
       "</div>\n"
      ]
     },
     "metadata": {},
     "output_type": "display_data"
    },
    {
     "data": {
      "text/html": [
       "<div class=\"progress\">\n",
       "  <div class=\"progress-bar\" role=\"progressbar\" style=\"background-color: blue; width: 100%; word-wrap: normal; white-space: nowrap; text-align: center; color: white\" aria-valuenow=\"100\" aria-valuemin=\"0\" aria-valuemax=\"100\">\n",
       "    1 / 1\n",
       "  </div>\n",
       "  <div class=\"progress-bar\" role=\"progressbar\" style=\"background-color: red; width: 0%\" aria-valuenow=\"0\" aria-valuemin=\"0\" aria-valuemax=\"100\"></div>\n",
       "</div>\n"
      ]
     },
     "metadata": {},
     "output_type": "display_data"
    },
    {
     "data": {
      "text/html": [
       "<div>\n",
       "  <span style=\"float: left;\">csv at cmd10.sc:5</span>\n",
       "</div>\n"
      ]
     },
     "metadata": {},
     "output_type": "display_data"
    },
    {
     "data": {
      "text/html": [
       "<div class=\"progress\">\n",
       "  <div class=\"progress-bar\" role=\"progressbar\" style=\"background-color: blue; width: 100%; word-wrap: normal; white-space: nowrap; text-align: center; color: white\" aria-valuenow=\"100\" aria-valuemin=\"0\" aria-valuemax=\"100\">\n",
       "    1 / 1\n",
       "  </div>\n",
       "  <div class=\"progress-bar\" role=\"progressbar\" style=\"background-color: red; width: 0%\" aria-valuenow=\"0\" aria-valuemin=\"0\" aria-valuemax=\"100\"></div>\n",
       "</div>\n"
      ]
     },
     "metadata": {},
     "output_type": "display_data"
    },
    {
     "data": {
      "text/html": [
       "<div>\n",
       "  <span style=\"float: left;\">parquet at cmd10.sc:28</span>\n",
       "</div>\n"
      ]
     },
     "metadata": {},
     "output_type": "display_data"
    },
    {
     "data": {
      "text/html": [
       "<div class=\"progress\">\n",
       "  <div class=\"progress-bar\" role=\"progressbar\" style=\"background-color: blue; width: 100%; word-wrap: normal; white-space: nowrap; text-align: center; color: white\" aria-valuenow=\"100\" aria-valuemin=\"0\" aria-valuemax=\"100\">\n",
       "    1 / 1\n",
       "  </div>\n",
       "  <div class=\"progress-bar\" role=\"progressbar\" style=\"background-color: red; width: 0%\" aria-valuenow=\"0\" aria-valuemin=\"0\" aria-valuemax=\"100\"></div>\n",
       "</div>\n"
      ]
     },
     "metadata": {},
     "output_type": "display_data"
    },
    {
     "data": {
      "text/html": [
       "<div>\n",
       "  <span style=\"float: left;\">csv at cmd10.sc:5</span>\n",
       "</div>\n"
      ]
     },
     "metadata": {},
     "output_type": "display_data"
    },
    {
     "data": {
      "text/html": [
       "<div class=\"progress\">\n",
       "  <div class=\"progress-bar\" role=\"progressbar\" style=\"background-color: blue; width: 100%; word-wrap: normal; white-space: nowrap; text-align: center; color: white\" aria-valuenow=\"100\" aria-valuemin=\"0\" aria-valuemax=\"100\">\n",
       "    1 / 1\n",
       "  </div>\n",
       "  <div class=\"progress-bar\" role=\"progressbar\" style=\"background-color: red; width: 0%\" aria-valuenow=\"0\" aria-valuemin=\"0\" aria-valuemax=\"100\"></div>\n",
       "</div>\n"
      ]
     },
     "metadata": {},
     "output_type": "display_data"
    },
    {
     "data": {
      "text/html": [
       "<div>\n",
       "  <span style=\"float: left;\">csv at cmd10.sc:5</span>\n",
       "</div>\n"
      ]
     },
     "metadata": {},
     "output_type": "display_data"
    },
    {
     "data": {
      "text/html": [
       "<div class=\"progress\">\n",
       "  <div class=\"progress-bar\" role=\"progressbar\" style=\"background-color: blue; width: 100%; word-wrap: normal; white-space: nowrap; text-align: center; color: white\" aria-valuenow=\"100\" aria-valuemin=\"0\" aria-valuemax=\"100\">\n",
       "    1 / 1\n",
       "  </div>\n",
       "  <div class=\"progress-bar\" role=\"progressbar\" style=\"background-color: red; width: 0%\" aria-valuenow=\"0\" aria-valuemin=\"0\" aria-valuemax=\"100\"></div>\n",
       "</div>\n"
      ]
     },
     "metadata": {},
     "output_type": "display_data"
    },
    {
     "data": {
      "text/html": [
       "<div>\n",
       "  <span style=\"float: left;\">parquet at cmd10.sc:28</span>\n",
       "</div>\n"
      ]
     },
     "metadata": {},
     "output_type": "display_data"
    },
    {
     "data": {
      "text/html": [
       "<div class=\"progress\">\n",
       "  <div class=\"progress-bar\" role=\"progressbar\" style=\"background-color: blue; width: 100%; word-wrap: normal; white-space: nowrap; text-align: center; color: white\" aria-valuenow=\"100\" aria-valuemin=\"0\" aria-valuemax=\"100\">\n",
       "    1 / 1\n",
       "  </div>\n",
       "  <div class=\"progress-bar\" role=\"progressbar\" style=\"background-color: red; width: 0%\" aria-valuenow=\"0\" aria-valuemin=\"0\" aria-valuemax=\"100\"></div>\n",
       "</div>\n"
      ]
     },
     "metadata": {},
     "output_type": "display_data"
    },
    {
     "data": {
      "text/html": [
       "<div>\n",
       "  <span style=\"float: left;\">csv at cmd10.sc:5</span>\n",
       "</div>\n"
      ]
     },
     "metadata": {},
     "output_type": "display_data"
    },
    {
     "data": {
      "text/html": [
       "<div class=\"progress\">\n",
       "  <div class=\"progress-bar\" role=\"progressbar\" style=\"background-color: blue; width: 100%; word-wrap: normal; white-space: nowrap; text-align: center; color: white\" aria-valuenow=\"100\" aria-valuemin=\"0\" aria-valuemax=\"100\">\n",
       "    1 / 1\n",
       "  </div>\n",
       "  <div class=\"progress-bar\" role=\"progressbar\" style=\"background-color: red; width: 0%\" aria-valuenow=\"0\" aria-valuemin=\"0\" aria-valuemax=\"100\"></div>\n",
       "</div>\n"
      ]
     },
     "metadata": {},
     "output_type": "display_data"
    },
    {
     "data": {
      "text/html": [
       "<div>\n",
       "  <span style=\"float: left;\">csv at cmd10.sc:5</span>\n",
       "</div>\n"
      ]
     },
     "metadata": {},
     "output_type": "display_data"
    },
    {
     "data": {
      "text/html": [
       "<div class=\"progress\">\n",
       "  <div class=\"progress-bar\" role=\"progressbar\" style=\"background-color: blue; width: 100%; word-wrap: normal; white-space: nowrap; text-align: center; color: white\" aria-valuenow=\"100\" aria-valuemin=\"0\" aria-valuemax=\"100\">\n",
       "    1 / 1\n",
       "  </div>\n",
       "  <div class=\"progress-bar\" role=\"progressbar\" style=\"background-color: red; width: 0%\" aria-valuenow=\"0\" aria-valuemin=\"0\" aria-valuemax=\"100\"></div>\n",
       "</div>\n"
      ]
     },
     "metadata": {},
     "output_type": "display_data"
    },
    {
     "data": {
      "text/html": [
       "<div>\n",
       "  <span style=\"float: left;\">parquet at cmd10.sc:28</span>\n",
       "</div>\n"
      ]
     },
     "metadata": {},
     "output_type": "display_data"
    },
    {
     "data": {
      "text/html": [
       "<div class=\"progress\">\n",
       "  <div class=\"progress-bar\" role=\"progressbar\" style=\"background-color: blue; width: 100%; word-wrap: normal; white-space: nowrap; text-align: center; color: white\" aria-valuenow=\"100\" aria-valuemin=\"0\" aria-valuemax=\"100\">\n",
       "    1 / 1\n",
       "  </div>\n",
       "  <div class=\"progress-bar\" role=\"progressbar\" style=\"background-color: red; width: 0%\" aria-valuenow=\"0\" aria-valuemin=\"0\" aria-valuemax=\"100\"></div>\n",
       "</div>\n"
      ]
     },
     "metadata": {},
     "output_type": "display_data"
    },
    {
     "data": {
      "text/html": [
       "<div>\n",
       "  <span style=\"float: left;\">csv at cmd10.sc:5</span>\n",
       "</div>\n"
      ]
     },
     "metadata": {},
     "output_type": "display_data"
    },
    {
     "data": {
      "text/html": [
       "<div class=\"progress\">\n",
       "  <div class=\"progress-bar\" role=\"progressbar\" style=\"background-color: blue; width: 100%; word-wrap: normal; white-space: nowrap; text-align: center; color: white\" aria-valuenow=\"100\" aria-valuemin=\"0\" aria-valuemax=\"100\">\n",
       "    1 / 1\n",
       "  </div>\n",
       "  <div class=\"progress-bar\" role=\"progressbar\" style=\"background-color: red; width: 0%\" aria-valuenow=\"0\" aria-valuemin=\"0\" aria-valuemax=\"100\"></div>\n",
       "</div>\n"
      ]
     },
     "metadata": {},
     "output_type": "display_data"
    },
    {
     "data": {
      "text/html": [
       "<div>\n",
       "  <span style=\"float: left;\">csv at cmd10.sc:5</span>\n",
       "</div>\n"
      ]
     },
     "metadata": {},
     "output_type": "display_data"
    },
    {
     "data": {
      "text/html": [
       "<div class=\"progress\">\n",
       "  <div class=\"progress-bar\" role=\"progressbar\" style=\"background-color: blue; width: 100%; word-wrap: normal; white-space: nowrap; text-align: center; color: white\" aria-valuenow=\"100\" aria-valuemin=\"0\" aria-valuemax=\"100\">\n",
       "    1 / 1\n",
       "  </div>\n",
       "  <div class=\"progress-bar\" role=\"progressbar\" style=\"background-color: red; width: 0%\" aria-valuenow=\"0\" aria-valuemin=\"0\" aria-valuemax=\"100\"></div>\n",
       "</div>\n"
      ]
     },
     "metadata": {},
     "output_type": "display_data"
    },
    {
     "data": {
      "text/html": [
       "<div>\n",
       "  <span style=\"float: left;\">parquet at cmd10.sc:28</span>\n",
       "</div>\n"
      ]
     },
     "metadata": {},
     "output_type": "display_data"
    },
    {
     "data": {
      "text/html": [
       "<div class=\"progress\">\n",
       "  <div class=\"progress-bar\" role=\"progressbar\" style=\"background-color: blue; width: 100%; word-wrap: normal; white-space: nowrap; text-align: center; color: white\" aria-valuenow=\"100\" aria-valuemin=\"0\" aria-valuemax=\"100\">\n",
       "    1 / 1\n",
       "  </div>\n",
       "  <div class=\"progress-bar\" role=\"progressbar\" style=\"background-color: red; width: 0%\" aria-valuenow=\"0\" aria-valuemin=\"0\" aria-valuemax=\"100\"></div>\n",
       "</div>\n"
      ]
     },
     "metadata": {},
     "output_type": "display_data"
    },
    {
     "data": {
      "text/html": [
       "<div>\n",
       "  <span style=\"float: left;\">csv at cmd10.sc:5</span>\n",
       "</div>\n"
      ]
     },
     "metadata": {},
     "output_type": "display_data"
    },
    {
     "data": {
      "text/html": [
       "<div class=\"progress\">\n",
       "  <div class=\"progress-bar\" role=\"progressbar\" style=\"background-color: blue; width: 100%; word-wrap: normal; white-space: nowrap; text-align: center; color: white\" aria-valuenow=\"100\" aria-valuemin=\"0\" aria-valuemax=\"100\">\n",
       "    1 / 1\n",
       "  </div>\n",
       "  <div class=\"progress-bar\" role=\"progressbar\" style=\"background-color: red; width: 0%\" aria-valuenow=\"0\" aria-valuemin=\"0\" aria-valuemax=\"100\"></div>\n",
       "</div>\n"
      ]
     },
     "metadata": {},
     "output_type": "display_data"
    },
    {
     "data": {
      "text/html": [
       "<div>\n",
       "  <span style=\"float: left;\">csv at cmd10.sc:5</span>\n",
       "</div>\n"
      ]
     },
     "metadata": {},
     "output_type": "display_data"
    },
    {
     "data": {
      "text/html": [
       "<div class=\"progress\">\n",
       "  <div class=\"progress-bar\" role=\"progressbar\" style=\"background-color: blue; width: 100%; word-wrap: normal; white-space: nowrap; text-align: center; color: white\" aria-valuenow=\"100\" aria-valuemin=\"0\" aria-valuemax=\"100\">\n",
       "    2 / 2\n",
       "  </div>\n",
       "  <div class=\"progress-bar\" role=\"progressbar\" style=\"background-color: red; width: 0%\" aria-valuenow=\"0\" aria-valuemin=\"0\" aria-valuemax=\"100\"></div>\n",
       "</div>\n"
      ]
     },
     "metadata": {},
     "output_type": "display_data"
    },
    {
     "data": {
      "text/html": [
       "<div>\n",
       "  <span style=\"float: left;\">parquet at cmd10.sc:28</span>\n",
       "</div>\n"
      ]
     },
     "metadata": {},
     "output_type": "display_data"
    },
    {
     "data": {
      "text/html": [
       "<div class=\"progress\">\n",
       "  <div class=\"progress-bar\" role=\"progressbar\" style=\"background-color: blue; width: 100%; word-wrap: normal; white-space: nowrap; text-align: center; color: white\" aria-valuenow=\"100\" aria-valuemin=\"0\" aria-valuemax=\"100\">\n",
       "    2 / 2\n",
       "  </div>\n",
       "  <div class=\"progress-bar\" role=\"progressbar\" style=\"background-color: red; width: 0%\" aria-valuenow=\"0\" aria-valuemin=\"0\" aria-valuemax=\"100\"></div>\n",
       "</div>\n"
      ]
     },
     "metadata": {},
     "output_type": "display_data"
    },
    {
     "data": {
      "text/html": [
       "<div>\n",
       "  <span style=\"float: left;\">csv at cmd10.sc:5</span>\n",
       "</div>\n"
      ]
     },
     "metadata": {},
     "output_type": "display_data"
    },
    {
     "data": {
      "text/html": [
       "<div class=\"progress\">\n",
       "  <div class=\"progress-bar\" role=\"progressbar\" style=\"background-color: blue; width: 100%; word-wrap: normal; white-space: nowrap; text-align: center; color: white\" aria-valuenow=\"100\" aria-valuemin=\"0\" aria-valuemax=\"100\">\n",
       "    1 / 1\n",
       "  </div>\n",
       "  <div class=\"progress-bar\" role=\"progressbar\" style=\"background-color: red; width: 0%\" aria-valuenow=\"0\" aria-valuemin=\"0\" aria-valuemax=\"100\"></div>\n",
       "</div>\n"
      ]
     },
     "metadata": {},
     "output_type": "display_data"
    },
    {
     "data": {
      "text/html": [
       "<div>\n",
       "  <span style=\"float: left;\">csv at cmd10.sc:5</span>\n",
       "</div>\n"
      ]
     },
     "metadata": {},
     "output_type": "display_data"
    },
    {
     "data": {
      "text/html": [
       "<div class=\"progress\">\n",
       "  <div class=\"progress-bar\" role=\"progressbar\" style=\"background-color: blue; width: 100%; word-wrap: normal; white-space: nowrap; text-align: center; color: white\" aria-valuenow=\"100\" aria-valuemin=\"0\" aria-valuemax=\"100\">\n",
       "    11 / 11\n",
       "  </div>\n",
       "  <div class=\"progress-bar\" role=\"progressbar\" style=\"background-color: red; width: 0%\" aria-valuenow=\"0\" aria-valuemin=\"0\" aria-valuemax=\"100\"></div>\n",
       "</div>\n"
      ]
     },
     "metadata": {},
     "output_type": "display_data"
    },
    {
     "data": {
      "text/html": [
       "<div>\n",
       "  <span style=\"float: left;\">parquet at cmd10.sc:28</span>\n",
       "</div>\n"
      ]
     },
     "metadata": {},
     "output_type": "display_data"
    },
    {
     "data": {
      "text/html": [
       "<div class=\"progress\">\n",
       "  <div class=\"progress-bar\" role=\"progressbar\" style=\"background-color: blue; width: 100%; word-wrap: normal; white-space: nowrap; text-align: center; color: white\" aria-valuenow=\"100\" aria-valuemin=\"0\" aria-valuemax=\"100\">\n",
       "    11 / 11\n",
       "  </div>\n",
       "  <div class=\"progress-bar\" role=\"progressbar\" style=\"background-color: red; width: 0%\" aria-valuenow=\"0\" aria-valuemin=\"0\" aria-valuemax=\"100\"></div>\n",
       "</div>\n"
      ]
     },
     "metadata": {},
     "output_type": "display_data"
    },
    {
     "data": {
      "text/html": [
       "<div>\n",
       "  <span style=\"float: left;\">csv at cmd10.sc:5</span>\n",
       "</div>\n"
      ]
     },
     "metadata": {},
     "output_type": "display_data"
    },
    {
     "data": {
      "text/html": [
       "<div class=\"progress\">\n",
       "  <div class=\"progress-bar\" role=\"progressbar\" style=\"background-color: blue; width: 100%; word-wrap: normal; white-space: nowrap; text-align: center; color: white\" aria-valuenow=\"100\" aria-valuemin=\"0\" aria-valuemax=\"100\">\n",
       "    1 / 1\n",
       "  </div>\n",
       "  <div class=\"progress-bar\" role=\"progressbar\" style=\"background-color: red; width: 0%\" aria-valuenow=\"0\" aria-valuemin=\"0\" aria-valuemax=\"100\"></div>\n",
       "</div>\n"
      ]
     },
     "metadata": {},
     "output_type": "display_data"
    },
    {
     "data": {
      "text/html": [
       "<div>\n",
       "  <span style=\"float: left;\">csv at cmd10.sc:5</span>\n",
       "</div>\n"
      ]
     },
     "metadata": {},
     "output_type": "display_data"
    },
    {
     "data": {
      "text/html": [
       "<div class=\"progress\">\n",
       "  <div class=\"progress-bar\" role=\"progressbar\" style=\"background-color: blue; width: 100%; word-wrap: normal; white-space: nowrap; text-align: center; color: white\" aria-valuenow=\"100\" aria-valuemin=\"0\" aria-valuemax=\"100\">\n",
       "    1 / 1\n",
       "  </div>\n",
       "  <div class=\"progress-bar\" role=\"progressbar\" style=\"background-color: red; width: 0%\" aria-valuenow=\"0\" aria-valuemin=\"0\" aria-valuemax=\"100\"></div>\n",
       "</div>\n"
      ]
     },
     "metadata": {},
     "output_type": "display_data"
    },
    {
     "data": {
      "text/html": [
       "<div>\n",
       "  <span style=\"float: left;\">parquet at cmd10.sc:28</span>\n",
       "</div>\n"
      ]
     },
     "metadata": {},
     "output_type": "display_data"
    },
    {
     "data": {
      "text/html": [
       "<div class=\"progress\">\n",
       "  <div class=\"progress-bar\" role=\"progressbar\" style=\"background-color: blue; width: 100%; word-wrap: normal; white-space: nowrap; text-align: center; color: white\" aria-valuenow=\"100\" aria-valuemin=\"0\" aria-valuemax=\"100\">\n",
       "    1 / 1\n",
       "  </div>\n",
       "  <div class=\"progress-bar\" role=\"progressbar\" style=\"background-color: red; width: 0%\" aria-valuenow=\"0\" aria-valuemin=\"0\" aria-valuemax=\"100\"></div>\n",
       "</div>\n"
      ]
     },
     "metadata": {},
     "output_type": "display_data"
    },
    {
     "data": {
      "text/html": [
       "<div>\n",
       "  <span style=\"float: left;\">csv at cmd10.sc:5</span>\n",
       "</div>\n"
      ]
     },
     "metadata": {},
     "output_type": "display_data"
    },
    {
     "data": {
      "text/html": [
       "<div class=\"progress\">\n",
       "  <div class=\"progress-bar\" role=\"progressbar\" style=\"background-color: blue; width: 100%; word-wrap: normal; white-space: nowrap; text-align: center; color: white\" aria-valuenow=\"100\" aria-valuemin=\"0\" aria-valuemax=\"100\">\n",
       "    1 / 1\n",
       "  </div>\n",
       "  <div class=\"progress-bar\" role=\"progressbar\" style=\"background-color: red; width: 0%\" aria-valuenow=\"0\" aria-valuemin=\"0\" aria-valuemax=\"100\"></div>\n",
       "</div>\n"
      ]
     },
     "metadata": {},
     "output_type": "display_data"
    },
    {
     "data": {
      "text/html": [
       "<div>\n",
       "  <span style=\"float: left;\">csv at cmd10.sc:5</span>\n",
       "</div>\n"
      ]
     },
     "metadata": {},
     "output_type": "display_data"
    },
    {
     "data": {
      "text/html": [
       "<div class=\"progress\">\n",
       "  <div class=\"progress-bar\" role=\"progressbar\" style=\"background-color: blue; width: 100%; word-wrap: normal; white-space: nowrap; text-align: center; color: white\" aria-valuenow=\"100\" aria-valuemin=\"0\" aria-valuemax=\"100\">\n",
       "    1 / 1\n",
       "  </div>\n",
       "  <div class=\"progress-bar\" role=\"progressbar\" style=\"background-color: red; width: 0%\" aria-valuenow=\"0\" aria-valuemin=\"0\" aria-valuemax=\"100\"></div>\n",
       "</div>\n"
      ]
     },
     "metadata": {},
     "output_type": "display_data"
    },
    {
     "data": {
      "text/html": [
       "<div>\n",
       "  <span style=\"float: left;\">parquet at cmd10.sc:28</span>\n",
       "</div>\n"
      ]
     },
     "metadata": {},
     "output_type": "display_data"
    },
    {
     "data": {
      "text/html": [
       "<div class=\"progress\">\n",
       "  <div class=\"progress-bar\" role=\"progressbar\" style=\"background-color: blue; width: 100%; word-wrap: normal; white-space: nowrap; text-align: center; color: white\" aria-valuenow=\"100\" aria-valuemin=\"0\" aria-valuemax=\"100\">\n",
       "    1 / 1\n",
       "  </div>\n",
       "  <div class=\"progress-bar\" role=\"progressbar\" style=\"background-color: red; width: 0%\" aria-valuenow=\"0\" aria-valuemin=\"0\" aria-valuemax=\"100\"></div>\n",
       "</div>\n"
      ]
     },
     "metadata": {},
     "output_type": "display_data"
    },
    {
     "data": {
      "text/html": [
       "<div>\n",
       "  <span style=\"float: left;\">csv at cmd10.sc:5</span>\n",
       "</div>\n"
      ]
     },
     "metadata": {},
     "output_type": "display_data"
    },
    {
     "data": {
      "text/html": [
       "<div class=\"progress\">\n",
       "  <div class=\"progress-bar\" role=\"progressbar\" style=\"background-color: blue; width: 100%; word-wrap: normal; white-space: nowrap; text-align: center; color: white\" aria-valuenow=\"100\" aria-valuemin=\"0\" aria-valuemax=\"100\">\n",
       "    1 / 1\n",
       "  </div>\n",
       "  <div class=\"progress-bar\" role=\"progressbar\" style=\"background-color: red; width: 0%\" aria-valuenow=\"0\" aria-valuemin=\"0\" aria-valuemax=\"100\"></div>\n",
       "</div>\n"
      ]
     },
     "metadata": {},
     "output_type": "display_data"
    },
    {
     "data": {
      "text/html": [
       "<div>\n",
       "  <span style=\"float: left;\">csv at cmd10.sc:5</span>\n",
       "</div>\n"
      ]
     },
     "metadata": {},
     "output_type": "display_data"
    },
    {
     "data": {
      "text/html": [
       "<div class=\"progress\">\n",
       "  <div class=\"progress-bar\" role=\"progressbar\" style=\"background-color: blue; width: 100%; word-wrap: normal; white-space: nowrap; text-align: center; color: white\" aria-valuenow=\"100\" aria-valuemin=\"0\" aria-valuemax=\"100\">\n",
       "    1 / 1\n",
       "  </div>\n",
       "  <div class=\"progress-bar\" role=\"progressbar\" style=\"background-color: red; width: 0%\" aria-valuenow=\"0\" aria-valuemin=\"0\" aria-valuemax=\"100\"></div>\n",
       "</div>\n"
      ]
     },
     "metadata": {},
     "output_type": "display_data"
    },
    {
     "data": {
      "text/html": [
       "<div>\n",
       "  <span style=\"float: left;\">parquet at cmd10.sc:28</span>\n",
       "</div>\n"
      ]
     },
     "metadata": {},
     "output_type": "display_data"
    },
    {
     "data": {
      "text/html": [
       "<div class=\"progress\">\n",
       "  <div class=\"progress-bar\" role=\"progressbar\" style=\"background-color: blue; width: 100%; word-wrap: normal; white-space: nowrap; text-align: center; color: white\" aria-valuenow=\"100\" aria-valuemin=\"0\" aria-valuemax=\"100\">\n",
       "    1 / 1\n",
       "  </div>\n",
       "  <div class=\"progress-bar\" role=\"progressbar\" style=\"background-color: red; width: 0%\" aria-valuenow=\"0\" aria-valuemin=\"0\" aria-valuemax=\"100\"></div>\n",
       "</div>\n"
      ]
     },
     "metadata": {},
     "output_type": "display_data"
    },
    {
     "data": {
      "text/plain": [
       "\u001b[36mallFrames\u001b[39m: \u001b[32mSeq\u001b[39m[(\u001b[32mString\u001b[39m, \u001b[32mSeq\u001b[39m[(\u001b[32mString\u001b[39m, \u001b[32mDataFrame\u001b[39m)])] = \u001b[33mList\u001b[39m(\n",
       "  (\n",
       "    \u001b[32m\"games_data\"\u001b[39m,\n",
       "    \u001b[33mList\u001b[39m(\n",
       "      (\u001b[32m\"post_season\"\u001b[39m, [_c0: string, type: string ... 8 more fields]),\n",
       "      (\u001b[32m\"pre_season\"\u001b[39m, [type: string, game_id: int ... 7 more fields]),\n",
       "      (\u001b[32m\"regular_season\"\u001b[39m, [type: string, game_id: int ... 7 more fields])\n",
       "    )\n",
       "  ),\n",
       "  (\n",
       "    \u001b[32m\"play_by_play_data\"\u001b[39m,\n",
       "    \u001b[33mList\u001b[39m(\n",
       "      (\u001b[32m\"post_season\"\u001b[39m, [play_id: int, game_id: string ... 254 more fields]),\n",
       "      (\u001b[32m\"pre_season\"\u001b[39m, [play_id: int, game_id: int ... 254 more fields]),\n",
       "      (\u001b[32m\"regular_season\"\u001b[39m, [play_id: int, game_id: int ... 254 more fields])\n",
       "    )\n",
       "  ),\n",
       "  (\n",
       "    \u001b[32m\"roster_data\"\u001b[39m,\n",
       "    \u001b[33mList\u001b[39m(\n",
       "      (\u001b[32m\"post_season\"\u001b[39m, [season: int, season_type: string ... 5 more fields]),\n",
       "      (\u001b[32m\"pre_season\"\u001b[39m, [season: int, season_type: string ... 5 more fields]),\n",
       "      (\u001b[32m\"regular_season\"\u001b[39m, [season: int, season_type: string ... 5 more fields])\n",
       "    )\n",
       "  )\n",
       ")"
      ]
     },
     "execution_count": 13,
     "metadata": {},
     "output_type": "execute_result"
    }
   ],
   "source": [
    "val allFrames = dataTypes.map {\n",
    "    dt => dt -> seasonTypes.map {\n",
    "        st => st -> stackGames(dt, st)\n",
    "    }\n",
    "}"
   ]
  },
  {
   "cell_type": "code",
   "execution_count": 15,
   "metadata": {},
   "outputs": [
    {
     "data": {
      "text/plain": [
       "\u001b[36mallFramesMap\u001b[39m: \u001b[32mMap\u001b[39m[\u001b[32mString\u001b[39m, \u001b[32mMap\u001b[39m[\u001b[32mString\u001b[39m, \u001b[32mDataFrame\u001b[39m]] = \u001b[33mMap\u001b[39m(\n",
       "  \u001b[32m\"games_data\"\u001b[39m -> \u001b[33mMap\u001b[39m(\n",
       "    \u001b[32m\"post_season\"\u001b[39m -> [_c0: string, type: string ... 8 more fields],\n",
       "    \u001b[32m\"pre_season\"\u001b[39m -> [type: string, game_id: int ... 7 more fields],\n",
       "    \u001b[32m\"regular_season\"\u001b[39m -> [type: string, game_id: int ... 7 more fields]\n",
       "  ),\n",
       "  \u001b[32m\"play_by_play_data\"\u001b[39m -> \u001b[33mMap\u001b[39m(\n",
       "    \u001b[32m\"post_season\"\u001b[39m -> [play_id: int, game_id: string ... 254 more fields],\n",
       "    \u001b[32m\"pre_season\"\u001b[39m -> [play_id: int, game_id: int ... 254 more fields],\n",
       "    \u001b[32m\"regular_season\"\u001b[39m -> [play_id: int, game_id: int ... 254 more fields]\n",
       "  ),\n",
       "  \u001b[32m\"roster_data\"\u001b[39m -> \u001b[33mMap\u001b[39m(\n",
       "    \u001b[32m\"post_season\"\u001b[39m -> [season: int, season_type: string ... 5 more fields],\n",
       "    \u001b[32m\"pre_season\"\u001b[39m -> [season: int, season_type: string ... 5 more fields],\n",
       "    \u001b[32m\"regular_season\"\u001b[39m -> [season: int, season_type: string ... 5 more fields]\n",
       "  )\n",
       ")"
      ]
     },
     "execution_count": 15,
     "metadata": {},
     "output_type": "execute_result"
    }
   ],
   "source": [
    "val allFramesMap = allFrames.toMap.mapValues(_.toMap)"
   ]
  },
  {
   "cell_type": "code",
   "execution_count": 18,
   "metadata": {},
   "outputs": [
    {
     "data": {
      "text/html": [
       "<div>\n",
       "  <span style=\"float: left;\">show at cmd17.sc:1</span>\n",
       "</div>\n"
      ]
     },
     "metadata": {},
     "output_type": "display_data"
    },
    {
     "data": {
      "text/html": [
       "<div class=\"progress\">\n",
       "  <div class=\"progress-bar\" role=\"progressbar\" style=\"background-color: blue; width: 100%; word-wrap: normal; white-space: nowrap; text-align: center; color: white\" aria-valuenow=\"100\" aria-valuemin=\"0\" aria-valuemax=\"100\">\n",
       "    1 / 1\n",
       "  </div>\n",
       "  <div class=\"progress-bar\" role=\"progressbar\" style=\"background-color: red; width: 0%\" aria-valuenow=\"0\" aria-valuemin=\"0\" aria-valuemax=\"100\"></div>\n",
       "</div>\n"
      ]
     },
     "metadata": {},
     "output_type": "display_data"
    },
    {
     "name": "stdout",
     "output_type": "stream",
     "text": [
      "+---+----+----------+----+------+-------------+--------------------+----+-----+----+\n",
      "|_c0|type|   game_id|week|season|state_of_game|            game_url|team|score|home|\n",
      "+---+----+----------+----+------+-------------+--------------------+----+-----+----+\n",
      "|  1|post|2020012600|  18|  2019|          PRE|http://www.nfl.co...| APR|   NA|   1|\n",
      "|  1|post|2020012600|  18|  2019|          PRE|http://www.nfl.co...| NPR|   NA|   0|\n",
      "|  2|post|2020010400|  18|  2019|         POST|http://www.nfl.co...| HOU|   22|   1|\n",
      "|  2|post|2020010400|  18|  2019|         POST|http://www.nfl.co...| BUF|   19|   0|\n",
      "|  3|post|2020010401|  18|  2019|         POST|http://www.nfl.co...|  NE|   13|   1|\n",
      "|  3|post|2020010401|  18|  2019|         POST|http://www.nfl.co...| TEN|   20|   0|\n",
      "|  4|post|2020010500|  18|  2019|         POST|http://www.nfl.co...|  NO|   20|   1|\n",
      "|  4|post|2020010500|  18|  2019|         POST|http://www.nfl.co...| MIN|   26|   0|\n",
      "|  5|post|2020010501|  18|  2019|         POST|http://www.nfl.co...| PHI|    9|   1|\n",
      "|  5|post|2020010501|  18|  2019|         POST|http://www.nfl.co...| SEA|   17|   0|\n",
      "|  6|post|2020011100|  18|  2019|         POST|http://www.nfl.co...|  SF|   27|   1|\n",
      "|  6|post|2020011100|  18|  2019|         POST|http://www.nfl.co...| MIN|   10|   0|\n",
      "|  7|post|2020011101|  18|  2019|         POST|http://www.nfl.co...| BAL|   12|   1|\n",
      "|  7|post|2020011101|  18|  2019|         POST|http://www.nfl.co...| TEN|   28|   0|\n",
      "|  8|post|2020011200|  18|  2019|         POST|http://www.nfl.co...|  KC|   51|   1|\n",
      "|  8|post|2020011200|  18|  2019|         POST|http://www.nfl.co...| HOU|   31|   0|\n",
      "|  9|post|2020011201|  18|  2019|         POST|http://www.nfl.co...|  GB|   28|   1|\n",
      "|  9|post|2020011201|  18|  2019|         POST|http://www.nfl.co...| SEA|   23|   0|\n",
      "| 10|post|2020011900|  18|  2019|         POST|http://www.nfl.co...|  KC|   35|   1|\n",
      "| 10|post|2020011900|  18|  2019|         POST|http://www.nfl.co...| TEN|   24|   0|\n",
      "+---+----+----------+----+------+-------------+--------------------+----+-----+----+\n",
      "only showing top 20 rows\n",
      "\n"
     ]
    },
    {
     "data": {
      "text/html": [
       "<div>\n",
       "  <span style=\"float: left;\">show at cmd17.sc:1</span>\n",
       "</div>\n"
      ]
     },
     "metadata": {},
     "output_type": "display_data"
    },
    {
     "data": {
      "text/html": [
       "<div class=\"progress\">\n",
       "  <div class=\"progress-bar\" role=\"progressbar\" style=\"background-color: blue; width: 100%; word-wrap: normal; white-space: nowrap; text-align: center; color: white\" aria-valuenow=\"100\" aria-valuemin=\"0\" aria-valuemax=\"100\">\n",
       "    1 / 1\n",
       "  </div>\n",
       "  <div class=\"progress-bar\" role=\"progressbar\" style=\"background-color: red; width: 0%\" aria-valuenow=\"0\" aria-valuemin=\"0\" aria-valuemax=\"100\"></div>\n",
       "</div>\n"
      ]
     },
     "metadata": {},
     "output_type": "display_data"
    },
    {
     "name": "stdout",
     "output_type": "stream",
     "text": [
      "+----+----------+----+------+-------------+--------------------+----+-----+----+\n",
      "|type|   game_id|week|season|state_of_game|            game_url|team|score|home|\n",
      "+----+----------+----+------+-------------+--------------------+----+-----+----+\n",
      "| pre|2015080951|   0|  2015|         POST|http://www.nfl.co...| MIN|   14|   1|\n",
      "| pre|2015080951|   0|  2015|         POST|http://www.nfl.co...| PIT|    3|   0|\n",
      "| pre|2015081351|   1|  2015|         POST|http://www.nfl.co...| BAL|   30|   1|\n",
      "| pre|2015081351|   1|  2015|         POST|http://www.nfl.co...|  NO|   27|   0|\n",
      "| pre|2015081352|   1|  2015|         POST|http://www.nfl.co...| DET|   23|   1|\n",
      "| pre|2015081352|   1|  2015|         POST|http://www.nfl.co...| NYJ|    3|   0|\n",
      "| pre|2015081353|   1|  2015|         POST|http://www.nfl.co...|  NE|   11|   1|\n",
      "| pre|2015081353|   1|  2015|         POST|http://www.nfl.co...|  GB|   22|   0|\n",
      "| pre|2015081354|   1|  2015|         POST|http://www.nfl.co...| CLE|   17|   1|\n",
      "| pre|2015081354|   1|  2015|         POST|http://www.nfl.co...| WAS|   20|   0|\n",
      "| pre|2015081355|   1|  2015|         POST|http://www.nfl.co...| CHI|   27|   1|\n",
      "| pre|2015081355|   1|  2015|         POST|http://www.nfl.co...| MIA|   10|   0|\n",
      "| pre|2015081356|   1|  2015|         POST|http://www.nfl.co...|  SD|   17|   1|\n",
      "| pre|2015081356|   1|  2015|         POST|http://www.nfl.co...| DAL|    7|   0|\n",
      "| pre|2015081451|   1|  2015|         POST|http://www.nfl.co...| ATL|   31|   1|\n",
      "| pre|2015081451|   1|  2015|         POST|http://www.nfl.co...| TEN|   24|   0|\n",
      "| pre|2015081452|   1|  2015|         POST|http://www.nfl.co...| BUF|   24|   1|\n",
      "| pre|2015081452|   1|  2015|         POST|http://www.nfl.co...| CAR|   25|   0|\n",
      "| pre|2015081453|   1|  2015|         POST|http://www.nfl.co...| CIN|   23|   1|\n",
      "| pre|2015081453|   1|  2015|         POST|http://www.nfl.co...| NYG|   10|   0|\n",
      "+----+----------+----+------+-------------+--------------------+----+-----+----+\n",
      "only showing top 20 rows\n",
      "\n"
     ]
    },
    {
     "data": {
      "text/html": [
       "<div>\n",
       "  <span style=\"float: left;\">show at cmd17.sc:1</span>\n",
       "</div>\n"
      ]
     },
     "metadata": {},
     "output_type": "display_data"
    },
    {
     "data": {
      "text/html": [
       "<div class=\"progress\">\n",
       "  <div class=\"progress-bar\" role=\"progressbar\" style=\"background-color: blue; width: 100%; word-wrap: normal; white-space: nowrap; text-align: center; color: white\" aria-valuenow=\"100\" aria-valuemin=\"0\" aria-valuemax=\"100\">\n",
       "    1 / 1\n",
       "  </div>\n",
       "  <div class=\"progress-bar\" role=\"progressbar\" style=\"background-color: red; width: 0%\" aria-valuenow=\"0\" aria-valuemin=\"0\" aria-valuemax=\"100\"></div>\n",
       "</div>\n"
      ]
     },
     "metadata": {},
     "output_type": "display_data"
    },
    {
     "name": "stdout",
     "output_type": "stream",
     "text": [
      "+----+----------+----+------+-------------+--------------------+----+-----+----+\n",
      "|type|   game_id|week|season|state_of_game|            game_url|team|score|home|\n",
      "+----+----------+----+------+-------------+--------------------+----+-----+----+\n",
      "| reg|2015091000|   1|  2015|         POST|http://www.nfl.co...|  NE|   28|   1|\n",
      "| reg|2015091000|   1|  2015|         POST|http://www.nfl.co...| PIT|   21|   0|\n",
      "| reg|2015091300|   1|  2015|         POST|http://www.nfl.co...| CHI|   23|   1|\n",
      "| reg|2015091300|   1|  2015|         POST|http://www.nfl.co...|  GB|   31|   0|\n",
      "| reg|2015091306|   1|  2015|         POST|http://www.nfl.co...| HOU|   20|   1|\n",
      "| reg|2015091306|   1|  2015|         POST|http://www.nfl.co...|  KC|   27|   0|\n",
      "| reg|2015091305|   1|  2015|         POST|http://www.nfl.co...| NYJ|   31|   1|\n",
      "| reg|2015091305|   1|  2015|         POST|http://www.nfl.co...| CLE|   10|   0|\n",
      "| reg|2015091304|   1|  2015|         POST|http://www.nfl.co...| BUF|   27|   1|\n",
      "| reg|2015091304|   1|  2015|         POST|http://www.nfl.co...| IND|   14|   0|\n",
      "| reg|2015091303|   1|  2015|         POST|http://www.nfl.co...| WAS|   10|   1|\n",
      "| reg|2015091303|   1|  2015|         POST|http://www.nfl.co...| MIA|   17|   0|\n",
      "| reg|2015091302|   1|  2015|         POST|http://www.nfl.co...| JAC|    9|   1|\n",
      "| reg|2015091302|   1|  2015|         POST|http://www.nfl.co...| CAR|   20|   0|\n",
      "| reg|2015091301|   1|  2015|         POST|http://www.nfl.co...| STL|   34|   1|\n",
      "| reg|2015091301|   1|  2015|         POST|http://www.nfl.co...| SEA|   31|   0|\n",
      "| reg|2015091307|   1|  2015|         POST|http://www.nfl.co...| ARI|   31|   1|\n",
      "| reg|2015091307|   1|  2015|         POST|http://www.nfl.co...|  NO|   19|   0|\n",
      "| reg|2015091308|   1|  2015|         POST|http://www.nfl.co...|  SD|   33|   1|\n",
      "| reg|2015091308|   1|  2015|         POST|http://www.nfl.co...| DET|   28|   0|\n",
      "+----+----------+----+------+-------------+--------------------+----+-----+----+\n",
      "only showing top 20 rows\n",
      "\n"
     ]
    },
    {
     "data": {
      "text/plain": [
       "\u001b[36mres17\u001b[39m: \u001b[32mMap\u001b[39m[\u001b[32mString\u001b[39m, \u001b[32mUnit\u001b[39m] = \u001b[33mMap\u001b[39m(\n",
       "  \u001b[32m\"post_season\"\u001b[39m -> (),\n",
       "  \u001b[32m\"pre_season\"\u001b[39m -> (),\n",
       "  \u001b[32m\"regular_season\"\u001b[39m -> ()\n",
       ")"
      ]
     },
     "execution_count": 18,
     "metadata": {},
     "output_type": "execute_result"
    }
   ],
   "source": [
    "allFramesMap(\"games_data\").mapValues(_.show)"
   ]
  },
  {
   "cell_type": "code",
   "execution_count": 7,
   "metadata": {},
   "outputs": [
    {
     "data": {
      "text/html": [
       "<div>\n",
       "  <span style=\"float: left;\">csv at cmd6.sc:1</span>\n",
       "</div>\n"
      ]
     },
     "metadata": {},
     "output_type": "display_data"
    },
    {
     "data": {
      "text/html": [
       "<div class=\"progress\">\n",
       "  <div class=\"progress-bar\" role=\"progressbar\" style=\"background-color: blue; width: 100%; word-wrap: normal; white-space: nowrap; text-align: center; color: white\" aria-valuenow=\"100\" aria-valuemin=\"0\" aria-valuemax=\"100\">\n",
       "    1 / 1\n",
       "  </div>\n",
       "  <div class=\"progress-bar\" role=\"progressbar\" style=\"background-color: red; width: 0%\" aria-valuenow=\"0\" aria-valuemin=\"0\" aria-valuemax=\"100\"></div>\n",
       "</div>\n"
      ]
     },
     "metadata": {},
     "output_type": "display_data"
    },
    {
     "data": {
      "text/html": [
       "<div>\n",
       "  <span style=\"float: left;\">csv at cmd6.sc:1</span>\n",
       "</div>\n"
      ]
     },
     "metadata": {},
     "output_type": "display_data"
    },
    {
     "data": {
      "text/html": [
       "<div class=\"progress\">\n",
       "  <div class=\"progress-bar\" role=\"progressbar\" style=\"background-color: blue; width: 100%; word-wrap: normal; white-space: nowrap; text-align: center; color: white\" aria-valuenow=\"100\" aria-valuemin=\"0\" aria-valuemax=\"100\">\n",
       "    11 / 11\n",
       "  </div>\n",
       "  <div class=\"progress-bar\" role=\"progressbar\" style=\"background-color: red; width: 0%\" aria-valuenow=\"0\" aria-valuemin=\"0\" aria-valuemax=\"100\"></div>\n",
       "</div>\n"
      ]
     },
     "metadata": {},
     "output_type": "display_data"
    },
    {
     "data": {
      "text/plain": [
       "\u001b[36mplayByPlay2019\u001b[39m: \u001b[32mDataFrame\u001b[39m = [play_id: int, game_id: int ... 254 more fields]"
      ]
     },
     "execution_count": 7,
     "metadata": {},
     "output_type": "execute_result"
    }
   ],
   "source": [
    "val playByPlay2019 = spark.read.option(\"header\", \"true\").option(\"inferSchema\", \"true\").csv(\"../play_by_play_data/regular_season/*pbp*.csv\")"
   ]
  },
  {
   "cell_type": "code",
   "execution_count": 10,
   "metadata": {},
   "outputs": [
    {
     "data": {
      "text/plain": [
       "\u001b[36mgroupThrees\u001b[39m: \u001b[32mMap\u001b[39m[\u001b[32mString\u001b[39m, \u001b[32mArray\u001b[39m[\u001b[32mString\u001b[39m]] = \u001b[33mMap\u001b[39m(\n",
       "  \u001b[32m\"pas\"\u001b[39m -> \u001b[33mArray\u001b[39m(\n",
       "    \u001b[32m\"pass_length\"\u001b[39m,\n",
       "    \u001b[32m\"pass_location\"\u001b[39m,\n",
       "    \u001b[32m\"pass_attempt\"\u001b[39m,\n",
       "    \u001b[32m\"pass_touchdown\"\u001b[39m,\n",
       "    \u001b[32m\"passer_player_id\"\u001b[39m,\n",
       "    \u001b[32m\"passer_player_name\"\u001b[39m,\n",
       "    \u001b[32m\"pass_defense_1_player_id\"\u001b[39m,\n",
       "    \u001b[32m\"pass_defense_1_player_name\"\u001b[39m,\n",
       "    \u001b[32m\"pass_defense_2_player_id\"\u001b[39m,\n",
       "    \u001b[32m\"pass_defense_2_player_name\"\u001b[39m\n",
       "  ),\n",
       "  \u001b[32m\"des\"\u001b[39m -> \u001b[33mArray\u001b[39m(\u001b[32m\"desc\"\u001b[39m),\n",
       "  \u001b[32m\"for\"\u001b[39m -> \u001b[33mArray\u001b[39m(\n",
       "    \u001b[32m\"forced_fumble_player_1_team\"\u001b[39m,\n",
       "    \u001b[32m\"forced_fumble_player_1_player_id\"\u001b[39m,\n",
       "    \u001b[32m\"forced_fumble_player_1_player_name\"\u001b[39m,\n",
       "    \u001b[32m\"forced_fumble_player_2_team\"\u001b[39m,\n",
       "    \u001b[32m\"forced_fumble_player_2_player_id\"\u001b[39m,\n",
       "    \u001b[32m\"forced_fumble_player_2_player_name\"\u001b[39m\n",
       "  ),\n",
       "  \u001b[32m\"sho\"\u001b[39m -> \u001b[33mArray\u001b[39m(\u001b[32m\"shotgun\"\u001b[39m),\n",
       "  \u001b[32m\"qua\"\u001b[39m -> \u001b[33mArray\u001b[39m(\u001b[32m\"quarter_seconds_remaining\"\u001b[39m, \u001b[32m\"quarter_end\"\u001b[39m),\n",
       "  \u001b[32m\"tou\"\u001b[39m -> \u001b[33mArray\u001b[39m(\u001b[32m\"touchback\"\u001b[39m, \u001b[32m\"touchdown\"\u001b[39m),\n",
       "  \u001b[32m\"pun\"\u001b[39m -> \u001b[33mArray\u001b[39m(\n",
       "    \u001b[32m\"punt_blocked\"\u001b[39m,\n",
       "    \u001b[32m\"punt_inside_twenty\"\u001b[39m,\n",
       "    \u001b[32m\"punt_in_endzone\"\u001b[39m,\n",
       "    \u001b[32m\"punt_out_of_bounds\"\u001b[39m,\n",
       "    \u001b[32m\"punt_downed\"\u001b[39m,\n",
       "    \u001b[32m\"punt_fair_catch\"\u001b[39m,\n",
       "    \u001b[32m\"punt_attempt\"\u001b[39m,\n",
       "    \u001b[32m\"punt_returner_player_id\"\u001b[39m,\n",
       "    \u001b[32m\"punt_returner_player_name\"\u001b[39m,\n",
       "    \u001b[32m\"punter_player_id\"\u001b[39m,\n",
       "    \u001b[32m\"punter_player_name\"\u001b[39m\n",
       "  ),\n",
       "  \u001b[32m\"ret\"\u001b[39m -> \u001b[33mArray\u001b[39m(\u001b[32m\"return_touchdown\"\u001b[39m, \u001b[32m\"return_team\"\u001b[39m, \u001b[32m\"return_yards\"\u001b[39m),\n",
       "..."
      ]
     },
     "execution_count": 10,
     "metadata": {},
     "output_type": "execute_result"
    }
   ],
   "source": [
    "val groupThrees = playByPlay2019.columns.groupBy(x => x.slice(0, 3))"
   ]
  },
  {
   "cell_type": "code",
   "execution_count": 14,
   "metadata": {},
   "outputs": [
    {
     "data": {
      "text/plain": [
       "\u001b[36mres13\u001b[39m: \u001b[32mArray\u001b[39m[\u001b[32mString\u001b[39m] = \u001b[33mArray\u001b[39m(\n",
       "  \u001b[32m\"rush_attempt\"\u001b[39m,\n",
       "  \u001b[32m\"rush_touchdown\"\u001b[39m,\n",
       "  \u001b[32m\"rusher_player_id\"\u001b[39m,\n",
       "  \u001b[32m\"rusher_player_name\"\u001b[39m\n",
       ")"
      ]
     },
     "execution_count": 14,
     "metadata": {},
     "output_type": "execute_result"
    }
   ],
   "source": [
    "groupThrees(\"rus\")"
   ]
  },
  {
   "cell_type": "code",
   "execution_count": 20,
   "metadata": {},
   "outputs": [
    {
     "data": {
      "text/plain": [
       "\u001b[36mthreeStructs\u001b[39m: \u001b[32mcollection\u001b[39m.\u001b[32mimmutable\u001b[39m.\u001b[32mIterable\u001b[39m[\u001b[32mColumn\u001b[39m] = \u001b[33mList\u001b[39m(\n",
       "  struct(pass_length, pass_location, pass_attempt, pass_touchdown, passer_player_id, passer_player_name, pass_defense_1_player_id, pass_defense_1_player_name, pass_defense_2_player_id, pass_defense_2_player_name) AS `pas`,\n",
       "  struct(desc) AS `des`,\n",
       "  struct(forced_fumble_player_1_team, forced_fumble_player_1_player_id, forced_fumble_player_1_player_name, forced_fumble_player_2_team, forced_fumble_player_2_player_id, forced_fumble_player_2_player_name) AS `for`,\n",
       "  struct(shotgun) AS `sho`,\n",
       "  struct(quarter_seconds_remaining, quarter_end) AS `qua`,\n",
       "  struct(touchback, touchdown) AS `tou`,\n",
       "  struct(punt_blocked, punt_inside_twenty, punt_in_endzone, punt_out_of_bounds, punt_downed, punt_fair_catch, punt_attempt, punt_returner_player_id, punt_returner_player_name, punter_player_id, punter_player_name) AS `pun`,\n",
       "  struct(return_touchdown, return_team, return_yards) AS `ret`,\n",
       "  struct(first_down_rush, first_down_pass, first_down_penalty) AS `fir`,\n",
       "  struct(yrdln) AS `yrd`,\n",
       "  struct(own_kickoff_recovery, own_kickoff_recovery_td, own_kickoff_recovery_player_id, own_kickoff_recovery_player_name) AS `own`,\n",
       "  struct(time, timeout, timeout_team) AS `tim`,\n",
       "  struct(ep) AS `ep`,\n",
       "  struct(run_location, run_gap) AS `run`,\n",
       "  struct(posteam, posteam_type, posteam_timeouts_remaining, posteam_score, posteam_score_post) AS `pos`,\n",
       "  struct(goal_to_go) AS `goa`,\n",
       "  struct(safety_prob, safety) AS `saf`,\n",
       "  struct(two_point_conv_result, two_point_conversion_prob, two_point_attempt) AS `two`,\n",
       "  struct(fg_prob) AS `fg_`,\n",
       "  struct(fourth_down_converted, fourth_down_failed) AS `fou`,\n",
       "  struct(kick_distance, kickoff_inside_twenty, kickoff_in_endzone, kickoff_out_of_bounds, kickoff_downed, kickoff_fair_catch, kickoff_attempt, kickoff_returner_player_name, kickoff_returner_player_id, kicker_player_name, kicker_player_id) AS `kic`,\n",
       "  struct(ydstogo, ydsnet) AS `yds`,\n",
       "  struct(td_team, td_prob) AS `td_`,\n",
       "  struct(penalty, penalty_team, penalty_player_id, penalty_player_name, penalty_yards, penalty_type) AS `pen`,\n",
       "  struct(epa) AS `epa`,\n",
       "...\n",
       "\u001b[36mthreeColsNest\u001b[39m: \u001b[32mDataFrame\u001b[39m = [pas: struct<pass_length: string, pass_location: string ... 8 more fields>, des: struct<desc: string> ... 60 more fields]"
      ]
     },
     "execution_count": 20,
     "metadata": {},
     "output_type": "execute_result"
    }
   ],
   "source": [
    "val threeStructs = groupThrees.map {\n",
    "    case (three, cols) => struct(cols.map(col): _*) as three\n",
    "}\n",
    "val threeColsNest = playByPlay2019.select(threeStructs.toSeq: _*)"
   ]
  },
  {
   "cell_type": "code",
   "execution_count": 22,
   "metadata": {},
   "outputs": [
    {
     "name": "stdout",
     "output_type": "stream",
     "text": [
      "root\n",
      " |-- pas: struct (nullable = false)\n",
      " |    |-- pass_length: string (nullable = true)\n",
      " |    |-- pass_location: string (nullable = true)\n",
      " |    |-- pass_attempt: string (nullable = true)\n",
      " |    |-- pass_touchdown: string (nullable = true)\n",
      " |    |-- passer_player_id: string (nullable = true)\n",
      " |    |-- passer_player_name: string (nullable = true)\n",
      " |    |-- pass_defense_1_player_id: string (nullable = true)\n",
      " |    |-- pass_defense_1_player_name: string (nullable = true)\n",
      " |    |-- pass_defense_2_player_id: string (nullable = true)\n",
      " |    |-- pass_defense_2_player_name: string (nullable = true)\n",
      " |-- des: struct (nullable = false)\n",
      " |    |-- desc: string (nullable = true)\n",
      " |-- for: struct (nullable = false)\n",
      " |    |-- forced_fumble_player_1_team: string (nullable = true)\n",
      " |    |-- forced_fumble_player_1_player_id: string (nullable = true)\n",
      " |    |-- forced_fumble_player_1_player_name: string (nullable = true)\n",
      " |    |-- forced_fumble_player_2_team: string (nullable = true)\n",
      " |    |-- forced_fumble_player_2_player_id: string (nullable = true)\n",
      " |    |-- forced_fumble_player_2_player_name: string (nullable = true)\n",
      " |-- sho: struct (nullable = false)\n",
      " |    |-- shotgun: integer (nullable = true)\n",
      " |-- qua: struct (nullable = false)\n",
      " |    |-- quarter_seconds_remaining: string (nullable = true)\n",
      " |    |-- quarter_end: integer (nullable = true)\n",
      " |-- tou: struct (nullable = false)\n",
      " |    |-- touchback: integer (nullable = true)\n",
      " |    |-- touchdown: string (nullable = true)\n",
      " |-- pun: struct (nullable = false)\n",
      " |    |-- punt_blocked: string (nullable = true)\n",
      " |    |-- punt_inside_twenty: string (nullable = true)\n",
      " |    |-- punt_in_endzone: string (nullable = true)\n",
      " |    |-- punt_out_of_bounds: string (nullable = true)\n",
      " |    |-- punt_downed: string (nullable = true)\n",
      " |    |-- punt_fair_catch: string (nullable = true)\n",
      " |    |-- punt_attempt: string (nullable = true)\n",
      " |    |-- punt_returner_player_id: string (nullable = true)\n",
      " |    |-- punt_returner_player_name: string (nullable = true)\n",
      " |    |-- punter_player_id: string (nullable = true)\n",
      " |    |-- punter_player_name: string (nullable = true)\n",
      " |-- ret: struct (nullable = false)\n",
      " |    |-- return_touchdown: string (nullable = true)\n",
      " |    |-- return_team: string (nullable = true)\n",
      " |    |-- return_yards: string (nullable = true)\n",
      " |-- fir: struct (nullable = false)\n",
      " |    |-- first_down_rush: string (nullable = true)\n",
      " |    |-- first_down_pass: string (nullable = true)\n",
      " |    |-- first_down_penalty: string (nullable = true)\n",
      " |-- yrd: struct (nullable = false)\n",
      " |    |-- yrdln: string (nullable = true)\n",
      " |-- own: struct (nullable = false)\n",
      " |    |-- own_kickoff_recovery: string (nullable = true)\n",
      " |    |-- own_kickoff_recovery_td: string (nullable = true)\n",
      " |    |-- own_kickoff_recovery_player_id: string (nullable = true)\n",
      " |    |-- own_kickoff_recovery_player_name: string (nullable = true)\n",
      " |-- tim: struct (nullable = false)\n",
      " |    |-- time: string (nullable = true)\n",
      " |    |-- timeout: string (nullable = true)\n",
      " |    |-- timeout_team: string (nullable = true)\n",
      " |-- ep: struct (nullable = false)\n",
      " |    |-- ep: string (nullable = true)\n",
      " |-- run: struct (nullable = false)\n",
      " |    |-- run_location: string (nullable = true)\n",
      " |    |-- run_gap: string (nullable = true)\n",
      " |-- pos: struct (nullable = false)\n",
      " |    |-- posteam: string (nullable = true)\n",
      " |    |-- posteam_type: string (nullable = true)\n",
      " |    |-- posteam_timeouts_remaining: string (nullable = true)\n",
      " |    |-- posteam_score: string (nullable = true)\n",
      " |    |-- posteam_score_post: string (nullable = true)\n",
      " |-- goa: struct (nullable = false)\n",
      " |    |-- goal_to_go: string (nullable = true)\n",
      " |-- saf: struct (nullable = false)\n",
      " |    |-- safety_prob: string (nullable = true)\n",
      " |    |-- safety: string (nullable = true)\n",
      " |-- two: struct (nullable = false)\n",
      " |    |-- two_point_conv_result: string (nullable = true)\n",
      " |    |-- two_point_conversion_prob: double (nullable = true)\n",
      " |    |-- two_point_attempt: string (nullable = true)\n",
      " |-- fg_: struct (nullable = false)\n",
      " |    |-- fg_prob: string (nullable = true)\n",
      " |-- fou: struct (nullable = false)\n",
      " |    |-- fourth_down_converted: string (nullable = true)\n",
      " |    |-- fourth_down_failed: string (nullable = true)\n",
      " |-- kic: struct (nullable = false)\n",
      " |    |-- kick_distance: string (nullable = true)\n",
      " |    |-- kickoff_inside_twenty: string (nullable = true)\n",
      " |    |-- kickoff_in_endzone: string (nullable = true)\n",
      " |    |-- kickoff_out_of_bounds: string (nullable = true)\n",
      " |    |-- kickoff_downed: string (nullable = true)\n",
      " |    |-- kickoff_fair_catch: string (nullable = true)\n",
      " |    |-- kickoff_attempt: string (nullable = true)\n",
      " |    |-- kickoff_returner_player_name: string (nullable = true)\n",
      " |    |-- kickoff_returner_player_id: string (nullable = true)\n",
      " |    |-- kicker_player_name: string (nullable = true)\n",
      " |    |-- kicker_player_id: string (nullable = true)\n",
      " |-- yds: struct (nullable = false)\n",
      " |    |-- ydstogo: integer (nullable = true)\n",
      " |    |-- ydsnet: integer (nullable = true)\n",
      " |-- td_: struct (nullable = false)\n",
      " |    |-- td_team: string (nullable = true)\n",
      " |    |-- td_prob: string (nullable = true)\n",
      " |-- pen: struct (nullable = false)\n",
      " |    |-- penalty: string (nullable = true)\n",
      " |    |-- penalty_team: string (nullable = true)\n",
      " |    |-- penalty_player_id: string (nullable = true)\n",
      " |    |-- penalty_player_name: string (nullable = true)\n",
      " |    |-- penalty_yards: string (nullable = true)\n",
      " |    |-- penalty_type: string (nullable = true)\n",
      " |-- epa: struct (nullable = false)\n",
      " |    |-- epa: string (nullable = true)\n",
      " |-- rus: struct (nullable = false)\n",
      " |    |-- rush_attempt: string (nullable = true)\n",
      " |    |-- rush_touchdown: string (nullable = true)\n",
      " |    |-- rusher_player_id: string (nullable = true)\n",
      " |    |-- rusher_player_name: string (nullable = true)\n",
      " |-- wpa: struct (nullable = false)\n",
      " |    |-- wpa: string (nullable = true)\n",
      " |-- blo: struct (nullable = false)\n",
      " |    |-- blocked_player_id: string (nullable = true)\n",
      " |    |-- blocked_player_name: string (nullable = true)\n",
      " |-- dow: struct (nullable = false)\n",
      " |    |-- down: string (nullable = true)\n",
      " |-- tac: struct (nullable = false)\n",
      " |    |-- tackled_for_loss: string (nullable = true)\n",
      " |    |-- tackle_for_loss_1_player_id: string (nullable = true)\n",
      " |    |-- tackle_for_loss_1_player_name: string (nullable = true)\n",
      " |    |-- tackle_for_loss_2_player_id: string (nullable = true)\n",
      " |    |-- tackle_for_loss_2_player_name: string (nullable = true)\n",
      " |-- dri: struct (nullable = false)\n",
      " |    |-- drive: integer (nullable = true)\n",
      " |-- awa: struct (nullable = false)\n",
      " |    |-- away_team: string (nullable = true)\n",
      " |    |-- away_timeouts_remaining: integer (nullable = true)\n",
      " |    |-- away_wp: string (nullable = true)\n",
      " |    |-- away_wp_post: string (nullable = true)\n",
      " |-- fum: struct (nullable = false)\n",
      " |    |-- fumble_forced: string (nullable = true)\n",
      " |    |-- fumble_not_forced: string (nullable = true)\n",
      " |    |-- fumble_out_of_bounds: string (nullable = true)\n",
      " |    |-- fumble_lost: string (nullable = true)\n",
      " |    |-- fumble: string (nullable = true)\n",
      " |    |-- fumbled_1_team: string (nullable = true)\n",
      " |    |-- fumbled_1_player_id: string (nullable = true)\n",
      " |    |-- fumbled_1_player_name: string (nullable = true)\n",
      " |    |-- fumbled_2_player_id: string (nullable = true)\n",
      " |    |-- fumbled_2_player_name: string (nullable = true)\n",
      " |    |-- fumbled_2_team: string (nullable = true)\n",
      " |    |-- fumble_recovery_1_team: string (nullable = true)\n",
      " |    |-- fumble_recovery_1_yards: string (nullable = true)\n",
      " |    |-- fumble_recovery_1_player_id: string (nullable = true)\n",
      " |    |-- fumble_recovery_1_player_name: string (nullable = true)\n",
      " |    |-- fumble_recovery_2_team: string (nullable = true)\n",
      " |    |-- fumble_recovery_2_yards: string (nullable = true)\n",
      " |    |-- fumble_recovery_2_player_id: string (nullable = true)\n",
      " |    |-- fumble_recovery_2_player_name: string (nullable = true)\n",
      " |-- hal: struct (nullable = false)\n",
      " |    |-- half_seconds_remaining: string (nullable = true)\n",
      " |-- sac: struct (nullable = false)\n",
      " |    |-- sack: string (nullable = true)\n",
      " |-- ass: struct (nullable = false)\n",
      " |    |-- assist_tackle: string (nullable = true)\n",
      " |    |-- assist_tackle_1_player_id: string (nullable = true)\n",
      " |    |-- assist_tackle_1_player_name: string (nullable = true)\n",
      " |    |-- assist_tackle_1_team: string (nullable = true)\n",
      " |    |-- assist_tackle_2_player_id: string (nullable = true)\n",
      " |    |-- assist_tackle_2_player_name: string (nullable = true)\n",
      " |    |-- assist_tackle_2_team: string (nullable = true)\n",
      " |    |-- assist_tackle_3_player_id: string (nullable = true)\n",
      " |    |-- assist_tackle_3_player_name: string (nullable = true)\n",
      " |    |-- assist_tackle_3_team: string (nullable = true)\n",
      " |    |-- assist_tackle_4_player_id: string (nullable = true)\n",
      " |    |-- assist_tackle_4_player_name: string (nullable = true)\n",
      " |    |-- assist_tackle_4_team: string (nullable = true)\n",
      " |-- int: struct (nullable = false)\n",
      " |    |-- interception: string (nullable = true)\n",
      " |    |-- interception_player_id: string (nullable = true)\n",
      " |    |-- interception_player_name: string (nullable = true)\n",
      " |-- inc: struct (nullable = false)\n",
      " |    |-- incomplete_pass: string (nullable = true)\n",
      " |-- wp: struct (nullable = false)\n",
      " |    |-- wp: string (nullable = true)\n",
      " |-- rec: struct (nullable = false)\n",
      " |    |-- receiver_player_id: string (nullable = true)\n",
      " |    |-- receiver_player_name: string (nullable = true)\n",
      " |-- pla: struct (nullable = false)\n",
      " |    |-- play_id: integer (nullable = true)\n",
      " |    |-- play_type: string (nullable = true)\n",
      " |-- ext: struct (nullable = false)\n",
      " |    |-- extra_point_result: string (nullable = true)\n",
      " |    |-- extra_point_prob: double (nullable = true)\n",
      " |    |-- extra_point_attempt: string (nullable = true)\n",
      " |-- air: struct (nullable = false)\n",
      " |    |-- air_yards: string (nullable = true)\n",
      " |    |-- air_epa: string (nullable = true)\n",
      " |    |-- air_wpa: string (nullable = true)\n",
      " |-- sco: struct (nullable = false)\n",
      " |    |-- score_differential: string (nullable = true)\n",
      " |    |-- score_differential_post: string (nullable = true)\n",
      " |-- def: struct (nullable = false)\n",
      " |    |-- defteam: string (nullable = true)\n",
      " |    |-- defteam_timeouts_remaining: string (nullable = true)\n",
      " |    |-- defteam_score: string (nullable = true)\n",
      " |    |-- defteam_score_post: string (nullable = true)\n",
      " |    |-- def_wp: string (nullable = true)\n",
      " |    |-- defensive_two_point_attempt: string (nullable = true)\n",
      " |    |-- defensive_two_point_conv: string (nullable = true)\n",
      " |    |-- defensive_extra_point_attempt: string (nullable = true)\n",
      " |    |-- defensive_extra_point_conv: string (nullable = true)\n",
      " |-- gam: struct (nullable = false)\n",
      " |    |-- game_id: integer (nullable = true)\n",
      " |    |-- game_date: string (nullable = true)\n",
      " |    |-- game_seconds_remaining: string (nullable = true)\n",
      " |    |-- game_half: string (nullable = true)\n",
      " |-- qtr: struct (nullable = false)\n",
      " |    |-- qtr: integer (nullable = true)\n",
      " |-- yar: struct (nullable = false)\n",
      " |    |-- yardline_100: string (nullable = true)\n",
      " |    |-- yards_gained: string (nullable = true)\n",
      " |    |-- yards_after_catch: string (nullable = true)\n",
      " |-- fie: struct (nullable = false)\n",
      " |    |-- field_goal_result: string (nullable = true)\n",
      " |    |-- field_goal_attempt: string (nullable = true)\n",
      " |-- hom: struct (nullable = false)\n",
      " |    |-- home_team: string (nullable = true)\n",
      " |    |-- home_timeouts_remaining: integer (nullable = true)\n",
      " |    |-- home_wp: string (nullable = true)\n",
      " |    |-- home_wp_post: string (nullable = true)\n",
      " |-- no_: struct (nullable = false)\n",
      " |    |-- no_huddle: integer (nullable = true)\n",
      " |    |-- no_score_prob: string (nullable = true)\n",
      " |-- rep: struct (nullable = false)\n",
      " |    |-- replay_or_challenge: integer (nullable = true)\n",
      " |    |-- replay_or_challenge_result: string (nullable = true)\n",
      " |-- sp: struct (nullable = false)\n",
      " |    |-- sp: integer (nullable = true)\n",
      " |-- qb_: struct (nullable = false)\n",
      " |    |-- qb_dropback: string (nullable = true)\n",
      " |    |-- qb_kneel: integer (nullable = true)\n",
      " |    |-- qb_spike: integer (nullable = true)\n",
      " |    |-- qb_scramble: integer (nullable = true)\n",
      " |    |-- qb_hit: string (nullable = true)\n",
      " |    |-- qb_hit_1_player_id: string (nullable = true)\n",
      " |    |-- qb_hit_1_player_name: string (nullable = true)\n",
      " |    |-- qb_hit_2_player_id: string (nullable = true)\n",
      " |    |-- qb_hit_2_player_name: string (nullable = true)\n",
      " |-- com: struct (nullable = false)\n",
      " |    |-- comp_air_epa: string (nullable = true)\n",
      " |    |-- comp_yac_epa: string (nullable = true)\n",
      " |    |-- comp_air_wpa: string (nullable = true)\n",
      " |    |-- comp_yac_wpa: string (nullable = true)\n",
      " |    |-- complete_pass: string (nullable = true)\n",
      " |-- thi: struct (nullable = false)\n",
      " |    |-- third_down_converted: string (nullable = true)\n",
      " |    |-- third_down_failed: string (nullable = true)\n",
      " |-- sid: struct (nullable = false)\n",
      " |    |-- side_of_field: string (nullable = true)\n",
      " |-- opp: struct (nullable = false)\n",
      " |    |-- opp_fg_prob: string (nullable = true)\n",
      " |    |-- opp_safety_prob: string (nullable = true)\n",
      " |    |-- opp_td_prob: string (nullable = true)\n",
      " |-- lat: struct (nullable = false)\n",
      " |    |-- lateral_reception: string (nullable = true)\n",
      " |    |-- lateral_rush: string (nullable = true)\n",
      " |    |-- lateral_return: string (nullable = true)\n",
      " |    |-- lateral_recovery: string (nullable = true)\n",
      " |    |-- lateral_receiver_player_id: string (nullable = true)\n",
      " |    |-- lateral_receiver_player_name: string (nullable = true)\n",
      " |    |-- lateral_rusher_player_id: string (nullable = true)\n",
      " |    |-- lateral_rusher_player_name: string (nullable = true)\n",
      " |    |-- lateral_sack_player_id: string (nullable = true)\n",
      " |    |-- lateral_sack_player_name: string (nullable = true)\n",
      " |    |-- lateral_interception_player_id: string (nullable = true)\n",
      " |    |-- lateral_interception_player_name: string (nullable = true)\n",
      " |    |-- lateral_punt_returner_player_id: string (nullable = true)\n",
      " |    |-- lateral_punt_returner_player_name: string (nullable = true)\n",
      " |    |-- lateral_kickoff_returner_player_id: string (nullable = true)\n",
      " |    |-- lateral_kickoff_returner_player_name: string (nullable = true)\n",
      " |-- yac: struct (nullable = false)\n",
      " |    |-- yac_epa: string (nullable = true)\n",
      " |    |-- yac_wpa: string (nullable = true)\n",
      " |-- tot: struct (nullable = false)\n",
      " |    |-- total_home_score: integer (nullable = true)\n",
      " |    |-- total_away_score: integer (nullable = true)\n",
      " |    |-- total_home_epa: double (nullable = true)\n",
      " |    |-- total_away_epa: double (nullable = true)\n",
      " |    |-- total_home_rush_epa: double (nullable = true)\n",
      " |    |-- total_away_rush_epa: double (nullable = true)\n",
      " |    |-- total_home_pass_epa: double (nullable = true)\n",
      " |    |-- total_away_pass_epa: double (nullable = true)\n",
      " |    |-- total_home_comp_air_epa: double (nullable = true)\n",
      " |    |-- total_away_comp_air_epa: double (nullable = true)\n",
      " |    |-- total_home_comp_yac_epa: double (nullable = true)\n",
      " |    |-- total_away_comp_yac_epa: double (nullable = true)\n",
      " |    |-- total_home_raw_air_epa: double (nullable = true)\n",
      " |    |-- total_away_raw_air_epa: double (nullable = true)\n",
      " |    |-- total_home_raw_yac_epa: double (nullable = true)\n",
      " |    |-- total_away_raw_yac_epa: double (nullable = true)\n",
      " |    |-- total_home_rush_wpa: double (nullable = true)\n",
      " |    |-- total_away_rush_wpa: double (nullable = true)\n",
      " |    |-- total_home_pass_wpa: double (nullable = true)\n",
      " |    |-- total_away_pass_wpa: double (nullable = true)\n",
      " |    |-- total_home_comp_air_wpa: double (nullable = true)\n",
      " |    |-- total_away_comp_air_wpa: double (nullable = true)\n",
      " |    |-- total_home_comp_yac_wpa: double (nullable = true)\n",
      " |    |-- total_away_comp_yac_wpa: double (nullable = true)\n",
      " |    |-- total_home_raw_air_wpa: double (nullable = true)\n",
      " |    |-- total_away_raw_air_wpa: double (nullable = true)\n",
      " |    |-- total_home_raw_yac_wpa: double (nullable = true)\n",
      " |    |-- total_away_raw_yac_wpa: double (nullable = true)\n",
      " |-- sol: struct (nullable = false)\n",
      " |    |-- solo_tackle: string (nullable = true)\n",
      " |    |-- solo_tackle_1_team: string (nullable = true)\n",
      " |    |-- solo_tackle_2_team: string (nullable = true)\n",
      " |    |-- solo_tackle_1_player_id: string (nullable = true)\n",
      " |    |-- solo_tackle_2_player_id: string (nullable = true)\n",
      " |    |-- solo_tackle_1_player_name: string (nullable = true)\n",
      " |    |-- solo_tackle_2_player_name: string (nullable = true)\n",
      "\n"
     ]
    }
   ],
   "source": [
    "threeColsNest.printSchema"
   ]
  },
  {
   "cell_type": "code",
   "execution_count": 30,
   "metadata": {},
   "outputs": [
    {
     "data": {
      "text/html": [
       "<div>\n",
       "  <span style=\"float: left;\">take at cmd17.sc:4</span>\n",
       "</div>\n"
      ]
     },
     "metadata": {},
     "output_type": "display_data"
    },
    {
     "data": {
      "text/html": [
       "<div class=\"progress\">\n",
       "  <div class=\"progress-bar\" role=\"progressbar\" style=\"background-color: blue; width: 100%; word-wrap: normal; white-space: nowrap; text-align: center; color: white\" aria-valuenow=\"100\" aria-valuemin=\"0\" aria-valuemax=\"100\">\n",
       "    1 / 1\n",
       "  </div>\n",
       "  <div class=\"progress-bar\" role=\"progressbar\" style=\"background-color: red; width: 0%\" aria-valuenow=\"0\" aria-valuemin=\"0\" aria-valuemax=\"100\"></div>\n",
       "</div>\n"
      ]
     },
     "metadata": {},
     "output_type": "display_data"
    },
    {
     "data": {
      "text/html": [
       " <table>\n",
       "                <tr>\n",
       "                 <th>ydstogo</th><th>ydsnet</th><th>yards_gained</th><th>pass_length</th><th>pass_location</th><th>air_yards</th><th>yards_after_catch</th><th>total_home_rush_epa</th><th>total_away_rush_epa</th><th>total_home_pass_epa</th><th>total_away_pass_epa</th><th>total_home_rush_wpa</th><th>total_away_rush_wpa</th><th>total_home_pass_wpa</th><th>total_away_pass_wpa</th><th>first_down_rush</th><th>first_down_pass</th><th>incomplete_pass</th><th>rush_attempt</th><th>pass_attempt</th><th>pass_touchdown</th><th>rush_touchdown</th><th>complete_pass</th><th>passer_player_id</th><th>passer_player_name</th><th>receiver_player_id</th><th>receiver_player_name</th><th>rusher_player_id</th><th>rusher_player_name</th><th>interception_player_id</th><th>interception_player_name</th><th>punt_returner_player_id</th><th>punt_returner_player_name</th><th>kickoff_returner_player_name</th><th>kickoff_returner_player_id</th><th>punter_player_id</th><th>punter_player_name</th><th>kicker_player_name</th><th>kicker_player_id</th><th>own_kickoff_recovery_player_id</th><th>own_kickoff_recovery_player_name</th><th>blocked_player_id</th><th>blocked_player_name</th><th>tackle_for_loss_1_player_id</th><th>tackle_for_loss_1_player_name</th><th>tackle_for_loss_2_player_id</th><th>tackle_for_loss_2_player_name</th><th>qb_hit_1_player_id</th><th>qb_hit_1_player_name</th><th>qb_hit_2_player_id</th><th>qb_hit_2_player_name</th><th>forced_fumble_player_1_team</th><th>forced_fumble_player_1_player_id</th><th>forced_fumble_player_1_player_name</th><th>forced_fumble_player_2_team</th><th>forced_fumble_player_2_player_id</th><th>forced_fumble_player_2_player_name</th><th>solo_tackle_1_player_id</th><th>solo_tackle_2_player_id</th><th>solo_tackle_1_player_name</th><th>solo_tackle_2_player_name</th><th>assist_tackle_1_player_id</th><th>assist_tackle_1_player_name</th><th>assist_tackle_2_player_id</th><th>assist_tackle_2_player_name</th><th>assist_tackle_3_player_id</th><th>assist_tackle_3_player_name</th><th>assist_tackle_4_player_id</th><th>assist_tackle_4_player_name</th><th>pass_defense_1_player_id</th><th>pass_defense_1_player_name</th><th>pass_defense_2_player_id</th><th>pass_defense_2_player_name</th><th>fumbled_1_player_id</th><th>fumbled_1_player_name</th><th>fumbled_2_player_id</th><th>fumbled_2_player_name</th><th>fumble_recovery_1_yards</th><th>fumble_recovery_1_player_id</th><th>fumble_recovery_1_player_name</th><th>fumble_recovery_2_yards</th><th>fumble_recovery_2_player_id</th><th>fumble_recovery_2_player_name</th><th>return_yards</th><th>penalty_player_id</th><th>penalty_player_name</th><th>penalty_yards</th>\n",
       "                </tr>\n",
       "                <tr><td>0</td><td>0</td><td>0</td><td>NA</td><td>NA</td><td>NA</td><td>NA</td><td>0.0</td><td>0.0</td><td>0.0</td><td>0.0</td><td>0.0</td><td>0.0</td><td>0.0</td><td>0.0</td><td>0</td><td>0</td><td>0</td><td>0</td><td>0</td><td>0</td><td>0</td><td>0</td><td>NA</td><td>NA</td><td>NA</td><td>NA</td><td>NA</td><td>NA</td><td>NA</td><td>NA</td><td>NA</td><td>NA</td><td>NA</td><td>NA</td><td>NA</td><td>NA</td><td>S.Gostkowski</td><td>00-0024333</td><td>NA</td><td>NA</td><td>NA</td><td>NA</td><td>NA</td><td>NA</td><td>NA</td><td>NA</td><td>NA</td><td>NA</td><td>NA</td><td>NA</td><td>NA</td><td>NA</td><td>NA</td><td>NA</td><td>NA</td><td>NA</td><td>NA</td><td>NA</td><td>NA</td><td>NA</td><td>NA</td><td>NA</td><td>NA</td><td>NA</td><td>NA</td><td>NA</td><td>NA</td><td>NA</td><td>NA</td><td>NA</td><td>NA</td><td>NA</td><td>NA</td><td>NA</td><td>NA</td><td>NA</td><td>NA</td><td>NA</td><td>NA</td><td>NA</td><td>NA</td><td>NA</td><td>0</td><td>NA</td><td>NA</td><td>NA</td></tr><tr><td>10</td><td>18</td><td>18</td><td>NA</td><td>NA</td><td>NA</td><td>NA</td><td>-1.6933879964717005</td><td>1.6933879964717005</td><td>0.0</td><td>0.0</td><td>-0.0526828771195621</td><td>0.0526828771195621</td><td>0.0</td><td>0.0</td><td>1</td><td>0</td><td>0</td><td>1</td><td>0</td><td>0</td><td>0</td><td>0</td><td>NA</td><td>NA</td><td>NA</td><td>NA</td><td>00-0024242</td><td>De.Williams</td><td>NA</td><td>NA</td><td>NA</td><td>NA</td><td>NA</td><td>NA</td><td>NA</td><td>NA</td><td>NA</td><td>NA</td><td>NA</td><td>NA</td><td>NA</td><td>NA</td><td>NA</td><td>NA</td><td>NA</td><td>NA</td><td>NA</td><td>NA</td><td>NA</td><td>NA</td><td>NA</td><td>NA</td><td>NA</td><td>NA</td><td>NA</td><td>NA</td><td>00-0029669</td><td>NA</td><td>D.Hightower</td><td>NA</td><td>NA</td><td>NA</td><td>NA</td><td>NA</td><td>NA</td><td>NA</td><td>NA</td><td>NA</td><td>NA</td><td>NA</td><td>NA</td><td>NA</td><td>NA</td><td>NA</td><td>NA</td><td>NA</td><td>NA</td><td>NA</td><td>NA</td><td>NA</td><td>NA</td><td>NA</td><td>0</td><td>NA</td><td>NA</td><td>NA</td></tr><tr><td>10</td><td>31</td><td>9</td><td>short</td><td>right</td><td>-4</td><td>13</td><td>-1.6933879964717005</td><td>1.6933879964717005</td><td>-1.1286512907955397</td><td>1.1286512907955397</td><td>-0.0526828771195621</td><td>0.0526828771195621</td><td>-0.03693286724166811</td><td>0.03693286724166811</td><td>0</td><td>0</td><td>0</td><td>0</td><td>1</td><td>0</td><td>0</td><td>1</td><td>00-0022924</td><td>B.Roethlisberger</td><td>00-0027793</td><td>A.Brown</td><td>NA</td><td>NA</td><td>NA</td><td>NA</td><td>NA</td><td>NA</td><td>NA</td><td>NA</td><td>NA</td><td>NA</td><td>NA</td><td>NA</td><td>NA</td><td>NA</td><td>NA</td><td>NA</td><td>NA</td><td>NA</td><td>NA</td><td>NA</td><td>NA</td><td>NA</td><td>NA</td><td>NA</td><td>NA</td><td>NA</td><td>NA</td><td>NA</td><td>NA</td><td>NA</td><td>00-0029669</td><td>NA</td><td>D.Hightower</td><td>NA</td><td>NA</td><td>NA</td><td>NA</td><td>NA</td><td>NA</td><td>NA</td><td>NA</td><td>NA</td><td>NA</td><td>NA</td><td>NA</td><td>NA</td><td>NA</td><td>NA</td><td>NA</td><td>NA</td><td>NA</td><td>NA</td><td>NA</td><td>NA</td><td>NA</td><td>NA</td><td>0</td><td>NA</td><td>NA</td><td>NA</td></tr><tr><td>1</td><td>31</td><td>4</td><td>NA</td><td>NA</td><td>NA</td><td>NA</td><td>-1.5655705018557404</td><td>1.5655705018557404</td><td>-1.1286512907955397</td><td>1.1286512907955397</td><td>-0.05062911307962792</td><td>0.05062911307962792</td><td>-0.03693286724166811</td><td>0.03693286724166811</td><td>1</td><td>0</td><td>0</td><td>1</td><td>0</td><td>0</td><td>0</td><td>0</td><td>NA</td><td>NA</td><td>NA</td><td>NA</td><td>00-0024242</td><td>De.Williams</td><td>NA</td><td>NA</td><td>NA</td><td>NA</td><td>NA</td><td>NA</td><td>NA</td><td>NA</td><td>NA</td><td>NA</td><td>NA</td><td>NA</td><td>NA</td><td>NA</td><td>NA</td><td>NA</td><td>NA</td><td>NA</td><td>NA</td><td>NA</td><td>NA</td><td>NA</td><td>NA</td><td>NA</td><td>NA</td><td>NA</td><td>NA</td><td>NA</td><td>NA</td><td>NA</td><td>NA</td><td>NA</td><td>00-0030421</td><td>J.Collins</td><td>00-0032261</td><td>M.Brown</td><td>NA</td><td>NA</td><td>NA</td><td>NA</td><td>NA</td><td>NA</td><td>NA</td><td>NA</td><td>NA</td><td>NA</td><td>NA</td><td>NA</td><td>NA</td><td>NA</td><td>NA</td><td>NA</td><td>NA</td><td>NA</td><td>0</td><td>NA</td><td>NA</td><td>NA</td></tr><tr><td>10</td><td>45</td><td>14</td><td>short</td><td>right</td><td>9</td><td>5</td><td>-1.5655705018557404</td><td>1.5655705018557404</td><td>-1.9333188679019382</td><td>1.9333188679019382</td><td>-0.05062911307962792</td><td>0.05062911307962792</td><td>-0.0659642312419525</td><td>0.0659642312419525</td><td>0</td><td>1</td><td>0</td><td>0</td><td>1</td><td>0</td><td>0</td><td>1</td><td>00-0022924</td><td>B.Roethlisberger</td><td>00-0023465</td><td>H.Miller</td><td>NA</td><td>NA</td><td>NA</td><td>NA</td><td>NA</td><td>NA</td><td>NA</td><td>NA</td><td>NA</td><td>NA</td><td>NA</td><td>NA</td><td>NA</td><td>NA</td><td>NA</td><td>NA</td><td>NA</td><td>NA</td><td>NA</td><td>NA</td><td>NA</td><td>NA</td><td>NA</td><td>NA</td><td>NA</td><td>NA</td><td>NA</td><td>NA</td><td>NA</td><td>NA</td><td>00-0026150</td><td>NA</td><td>J.Mayo</td><td>NA</td><td>NA</td><td>NA</td><td>NA</td><td>NA</td><td>NA</td><td>NA</td><td>NA</td><td>NA</td><td>NA</td><td>NA</td><td>NA</td><td>NA</td><td>NA</td><td>NA</td><td>NA</td><td>NA</td><td>NA</td><td>NA</td><td>NA</td><td>NA</td><td>NA</td><td>NA</td><td>0</td><td>NA</td><td>NA</td><td>NA</td></tr><tr><td>10</td><td>56</td><td>11</td><td>NA</td><td>NA</td><td>NA</td><td>NA</td><td>-2.017749761799263</td><td>2.017749761799263</td><td>-1.9333188679019382</td><td>1.9333188679019382</td><td>-0.06768794144534318</td><td>0.06768794144534318</td><td>-0.0659642312419525</td><td>0.0659642312419525</td><td>1</td><td>0</td><td>0</td><td>1</td><td>0</td><td>0</td><td>0</td><td>0</td><td>NA</td><td>NA</td><td>NA</td><td>NA</td><td>00-0024242</td><td>De.Williams</td><td>NA</td><td>NA</td><td>NA</td><td>NA</td><td>NA</td><td>NA</td><td>NA</td><td>NA</td><td>NA</td><td>NA</td><td>NA</td><td>NA</td><td>NA</td><td>NA</td><td>NA</td><td>NA</td><td>NA</td><td>NA</td><td>NA</td><td>NA</td><td>NA</td><td>NA</td><td>NA</td><td>NA</td><td>NA</td><td>NA</td><td>NA</td><td>NA</td><td>00-0030421</td><td>NA</td><td>J.Collins</td><td>NA</td><td>NA</td><td>NA</td><td>NA</td><td>NA</td><td>NA</td><td>NA</td><td>NA</td><td>NA</td><td>NA</td><td>NA</td><td>NA</td><td>NA</td><td>NA</td><td>NA</td><td>NA</td><td>NA</td><td>NA</td><td>NA</td><td>NA</td><td>NA</td><td>NA</td><td>NA</td><td>0</td><td>NA</td><td>NA</td><td>NA</td></tr><tr><td>10</td><td>48</td><td>-8</td><td>NA</td><td>NA</td><td>NA</td><td>NA</td><td>-2.017749761799263</td><td>2.017749761799263</td><td>-0.943536518824728</td><td>0.943536518824728</td><td>-0.06768794144534318</td><td>0.06768794144534318</td><td>-0.03394041817126636</td><td>0.03394041817126636</td><td>0</td><td>0</td><td>0</td><td>0</td><td>1</td><td>0</td><td>0</td><td>0</td><td>00-0027793</td><td>A.Brown</td><td>NA</td><td>NA</td><td>NA</td><td>NA</td><td>NA</td><td>NA</td><td>NA</td><td>NA</td><td>NA</td><td>NA</td><td>NA</td><td>NA</td><td>NA</td><td>NA</td><td>NA</td><td>NA</td><td>NA</td><td>NA</td><td>00-0032261</td><td>M.Brown</td><td>NA</td><td>NA</td><td>00-0032261</td><td>M.Brown</td><td>NA</td><td>NA</td><td>NA</td><td>NA</td><td>NA</td><td>NA</td><td>NA</td><td>NA</td><td>00-0032261</td><td>NA</td><td>M.Brown</td><td>NA</td><td>NA</td><td>NA</td><td>NA</td><td>NA</td><td>NA</td><td>NA</td><td>NA</td><td>NA</td><td>NA</td><td>NA</td><td>NA</td><td>NA</td><td>NA</td><td>NA</td><td>NA</td><td>NA</td><td>NA</td><td>NA</td><td>NA</td><td>NA</td><td>NA</td><td>NA</td><td>0</td><td>NA</td><td>NA</td><td>NA</td></tr><tr><td>18</td><td>54</td><td>0</td><td>NA</td><td>NA</td><td>NA</td><td>NA</td><td>-2.017749761799263</td><td>2.017749761799263</td><td>-0.943536518824728</td><td>0.943536518824728</td><td>-0.06768794144534318</td><td>0.06768794144534318</td><td>-0.03394041817126636</td><td>0.03394041817126636</td><td>0</td><td>0</td><td>0</td><td>0</td><td>0</td><td>0</td><td>0</td><td>0</td><td>NA</td><td>NA</td><td>NA</td><td>NA</td><td>NA</td><td>NA</td><td>NA</td><td>NA</td><td>NA</td><td>NA</td><td>NA</td><td>NA</td><td>NA</td><td>NA</td><td>NA</td><td>NA</td><td>NA</td><td>NA</td><td>NA</td><td>NA</td><td>NA</td><td>NA</td><td>NA</td><td>NA</td><td>NA</td><td>NA</td><td>NA</td><td>NA</td><td>NA</td><td>NA</td><td>NA</td><td>NA</td><td>NA</td><td>NA</td><td>NA</td><td>NA</td><td>NA</td><td>NA</td><td>NA</td><td>NA</td><td>NA</td><td>NA</td><td>NA</td><td>NA</td><td>NA</td><td>NA</td><td>NA</td><td>NA</td><td>NA</td><td>NA</td><td>NA</td><td>NA</td><td>NA</td><td>NA</td><td>NA</td><td>NA</td><td>NA</td><td>NA</td><td>NA</td><td>NA</td><td>0</td><td>00-0028001</td><td>M.Gilbert</td><td>10</td></tr><tr><td>28</td><td>54</td><td>6</td><td>NA</td><td>NA</td><td>NA</td><td>NA</td><td>-1.6099595944842358</td><td>1.6099595944842358</td><td>-0.943536518824728</td><td>0.943536518824728</td><td>-0.0555850209540818</td><td>0.0555850209540818</td><td>-0.03394041817126636</td><td>0.03394041817126636</td><td>0</td><td>0</td><td>0</td><td>1</td><td>0</td><td>0</td><td>0</td><td>0</td><td>NA</td><td>NA</td><td>NA</td><td>NA</td><td>00-0028841</td><td>W.Johnson</td><td>NA</td><td>NA</td><td>NA</td><td>NA</td><td>NA</td><td>NA</td><td>NA</td><td>NA</td><td>NA</td><td>NA</td><td>NA</td><td>NA</td><td>NA</td><td>NA</td><td>NA</td><td>NA</td><td>NA</td><td>NA</td><td>NA</td><td>NA</td><td>NA</td><td>NA</td><td>NA</td><td>NA</td><td>NA</td><td>NA</td><td>NA</td><td>NA</td><td>00-0024349</td><td>NA</td><td>R.Ninkovich</td><td>NA</td><td>NA</td><td>NA</td><td>NA</td><td>NA</td><td>NA</td><td>NA</td><td>NA</td><td>NA</td><td>NA</td><td>NA</td><td>NA</td><td>NA</td><td>NA</td><td>NA</td><td>NA</td><td>NA</td><td>NA</td><td>NA</td><td>NA</td><td>NA</td><td>NA</td><td>NA</td><td>0</td><td>NA</td><td>NA</td><td>NA</td></tr><tr><td>22</td><td>54</td><td>10</td><td>short</td><td>right</td><td>1</td><td>9</td><td>-1.6099595944842358</td><td>1.6099595944842358</td><td>-0.785788237778541</td><td>0.785788237778541</td><td>-0.0555850209540818</td><td>0.0555850209540818</td><td>-0.03027237769369...</td><td>0.030272377693690955</td><td>0</td><td>0</td><td>0</td><td>0</td><td>1</td><td>0</td><td>0</td><td>1</td><td>00-0022924</td><td>B.Roethlisberger</td><td>00-0023465</td><td>H.Miller</td><td>NA</td><td>NA</td><td>NA</td><td>NA</td><td>NA</td><td>NA</td><td>NA</td><td>NA</td><td>NA</td><td>NA</td><td>NA</td><td>NA</td><td>NA</td><td>NA</td><td>NA</td><td>NA</td><td>NA</td><td>NA</td><td>NA</td><td>NA</td><td>NA</td><td>NA</td><td>NA</td><td>NA</td><td>NA</td><td>NA</td><td>NA</td><td>NA</td><td>NA</td><td>NA</td><td>NA</td><td>NA</td><td>NA</td><td>NA</td><td>00-0027010</td><td>P.Chung</td><td>00-0031218</td><td>M.Butler</td><td>NA</td><td>NA</td><td>NA</td><td>NA</td><td>NA</td><td>NA</td><td>NA</td><td>NA</td><td>NA</td><td>NA</td><td>NA</td><td>NA</td><td>NA</td><td>NA</td><td>NA</td><td>NA</td><td>NA</td><td>NA</td><td>0</td><td>NA</td><td>NA</td><td>NA</td></tr><tr><td>12</td><td>54</td><td>0</td><td>NA</td><td>NA</td><td>NA</td><td>NA</td><td>-1.6099595944842358</td><td>1.6099595944842358</td><td>-0.785788237778541</td><td>0.785788237778541</td><td>-0.0555850209540818</td><td>0.0555850209540818</td><td>-0.03027237769369...</td><td>0.030272377693690955</td><td>0</td><td>0</td><td>0</td><td>0</td><td>0</td><td>0</td><td>0</td><td>0</td><td>NA</td><td>NA</td><td>NA</td><td>NA</td><td>NA</td><td>NA</td><td>NA</td><td>NA</td><td>NA</td><td>NA</td><td>NA</td><td>NA</td><td>NA</td><td>NA</td><td>J.Scobee</td><td>00-0022874</td><td>NA</td><td>NA</td><td>NA</td><td>NA</td><td>NA</td><td>NA</td><td>NA</td><td>NA</td><td>NA</td><td>NA</td><td>NA</td><td>NA</td><td>NA</td><td>NA</td><td>NA</td><td>NA</td><td>NA</td><td>NA</td><td>NA</td><td>NA</td><td>NA</td><td>NA</td><td>NA</td><td>NA</td><td>NA</td><td>NA</td><td>NA</td><td>NA</td><td>NA</td><td>NA</td><td>NA</td><td>NA</td><td>NA</td><td>NA</td><td>NA</td><td>NA</td><td>NA</td><td>NA</td><td>NA</td><td>NA</td><td>NA</td><td>NA</td><td>NA</td><td>NA</td><td>0</td><td>NA</td><td>NA</td><td>NA</td></tr><tr><td>10</td><td>10</td><td>13</td><td>short</td><td>left</td><td>7</td><td>6</td><td>-1.6099595944842358</td><td>1.6099595944842358</td><td>-0.9580754777617859</td><td>0.9580754777617859</td><td>-0.0555850209540818</td><td>0.0555850209540818</td><td>-0.03472567979311...</td><td>0.034725679793117026</td><td>0</td><td>1</td><td>0</td><td>0</td><td>1</td><td>0</td><td>0</td><td>1</td><td>00-0019596</td><td>T.Brady</td><td>00-0027150</td><td>J.Edelman</td><td>NA</td><td>NA</td><td>NA</td><td>NA</td><td>NA</td><td>NA</td><td>NA</td><td>NA</td><td>NA</td><td>NA</td><td>NA</td><td>NA</td><td>NA</td><td>NA</td><td>NA</td><td>NA</td><td>NA</td><td>NA</td><td>NA</td><td>NA</td><td>NA</td><td>NA</td><td>NA</td><td>NA</td><td>NA</td><td>NA</td><td>NA</td><td>NA</td><td>NA</td><td>NA</td><td>00-0025557</td><td>NA</td><td>W.Gay</td><td>NA</td><td>NA</td><td>NA</td><td>NA</td><td>NA</td><td>NA</td><td>NA</td><td>NA</td><td>NA</td><td>NA</td><td>NA</td><td>NA</td><td>NA</td><td>NA</td><td>NA</td><td>NA</td><td>NA</td><td>NA</td><td>NA</td><td>NA</td><td>NA</td><td>NA</td><td>NA</td><td>0</td><td>00-0027955</td><td>N.Solder</td><td>15</td></tr><tr><td>10</td><td>10</td><td>12</td><td>short</td><td>left</td><td>6</td><td>6</td><td>-1.6099595944842358</td><td>1.6099595944842358</td><td>0.04568604933580822</td><td>-0.04568604933580822</td><td>-0.0555850209540818</td><td>0.0555850209540818</td><td>-0.00318285208483...</td><td>0.003182852084835819</td><td>0</td><td>1</td><td>0</td><td>0</td><td>1</td><td>0</td><td>0</td><td>1</td><td>00-0019596</td><td>T.Brady</td><td>00-0028087</td><td>D.Lewis</td><td>NA</td><td>NA</td><td>NA</td><td>NA</td><td>NA</td><td>NA</td><td>NA</td><td>NA</td><td>NA</td><td>NA</td><td>NA</td><td>NA</td><td>NA</td><td>NA</td><td>NA</td><td>NA</td><td>NA</td><td>NA</td><td>NA</td><td>NA</td><td>NA</td><td>NA</td><td>NA</td><td>NA</td><td>NA</td><td>NA</td><td>NA</td><td>NA</td><td>NA</td><td>NA</td><td>00-0020712</td><td>NA</td><td>J.Harrison</td><td>NA</td><td>NA</td><td>NA</td><td>NA</td><td>NA</td><td>NA</td><td>NA</td><td>NA</td><td>NA</td><td>NA</td><td>NA</td><td>NA</td><td>NA</td><td>NA</td><td>NA</td><td>NA</td><td>NA</td><td>NA</td><td>NA</td><td>NA</td><td>NA</td><td>NA</td><td>NA</td><td>0</td><td>NA</td><td>NA</td><td>NA</td></tr><tr><td>10</td><td>23</td><td>13</td><td>short</td><td>left</td><td>7</td><td>6</td><td>-1.6099595944842358</td><td>1.6099595944842358</td><td>0.9147197952753938</td><td>-0.9147197952753938</td><td>-0.0555850209540818</td><td>0.0555850209540818</td><td>0.026098621651115428</td><td>-0.02609862165111...</td><td>0</td><td>1</td><td>0</td><td>0</td><td>1</td><td>0</td><td>0</td><td>1</td><td>00-0019596</td><td>T.Brady</td><td>00-0028087</td><td>D.Lewis</td><td>NA</td><td>NA</td><td>NA</td><td>NA</td><td>NA</td><td>NA</td><td>NA</td><td>NA</td><td>NA</td><td>NA</td><td>NA</td><td>NA</td><td>NA</td><td>NA</td><td>NA</td><td>NA</td><td>NA</td><td>NA</td><td>NA</td><td>NA</td><td>NA</td><td>NA</td><td>NA</td><td>NA</td><td>NA</td><td>NA</td><td>NA</td><td>NA</td><td>NA</td><td>NA</td><td>NA</td><td>NA</td><td>NA</td><td>NA</td><td>NA</td><td>NA</td><td>NA</td><td>NA</td><td>NA</td><td>NA</td><td>NA</td><td>NA</td><td>NA</td><td>NA</td><td>NA</td><td>NA</td><td>NA</td><td>NA</td><td>NA</td><td>NA</td><td>NA</td><td>NA</td><td>NA</td><td>NA</td><td>NA</td><td>NA</td><td>0</td><td>NA</td><td>NA</td><td>NA</td></tr><tr><td>10</td><td>23</td><td>0</td><td>short</td><td>right</td><td>5</td><td>NA</td><td>-1.6099595944842358</td><td>1.6099595944842358</td><td>0.37075737946707266</td><td>-0.37075737946707266</td><td>-0.0555850209540818</td><td>0.0555850209540818</td><td>0.008354610788898986</td><td>-0.00835461078889...</td><td>0</td><td>0</td><td>1</td><td>0</td><td>1</td><td>0</td><td>0</td><td>0</td><td>00-0019596</td><td>T.Brady</td><td>00-0027656</td><td>R.Gronkowski</td><td>NA</td><td>NA</td><td>NA</td><td>NA</td><td>NA</td><td>NA</td><td>NA</td><td>NA</td><td>NA</td><td>NA</td><td>NA</td><td>NA</td><td>NA</td><td>NA</td><td>NA</td><td>NA</td><td>NA</td><td>NA</td><td>NA</td><td>NA</td><td>NA</td><td>NA</td><td>NA</td><td>NA</td><td>NA</td><td>NA</td><td>NA</td><td>NA</td><td>NA</td><td>NA</td><td>NA</td><td>NA</td><td>NA</td><td>NA</td><td>NA</td><td>NA</td><td>NA</td><td>NA</td><td>NA</td><td>NA</td><td>NA</td><td>NA</td><td>NA</td><td>NA</td><td>NA</td><td>NA</td><td>NA</td><td>NA</td><td>NA</td><td>NA</td><td>NA</td><td>NA</td><td>NA</td><td>NA</td><td>NA</td><td>NA</td><td>0</td><td>NA</td><td>NA</td><td>NA</td></tr><tr><td>10</td><td>23</td><td>0</td><td>deep</td><td>right</td><td>25</td><td>NA</td><td>-1.6099595944842358</td><td>1.6099595944842358</td><td>-0.49783298937078335</td><td>0.49783298937078335</td><td>-0.0555850209540818</td><td>0.0555850209540818</td><td>-0.0189502203295292</td><td>0.0189502203295292</td><td>0</td><td>0</td><td>1</td><td>0</td><td>1</td><td>0</td><td>0</td><td>0</td><td>00-0019596</td><td>T.Brady</td><td>00-0026035</td><td>D.Amendola</td><td>NA</td><td>NA</td><td>NA</td><td>NA</td><td>NA</td><td>NA</td><td>NA</td><td>NA</td><td>NA</td><td>NA</td><td>NA</td><td>NA</td><td>NA</td><td>NA</td><td>NA</td><td>NA</td><td>NA</td><td>NA</td><td>NA</td><td>NA</td><td>NA</td><td>NA</td><td>NA</td><td>NA</td><td>NA</td><td>NA</td><td>NA</td><td>NA</td><td>NA</td><td>NA</td><td>NA</td><td>NA</td><td>NA</td><td>NA</td><td>NA</td><td>NA</td><td>NA</td><td>NA</td><td>NA</td><td>NA</td><td>NA</td><td>NA</td><td>NA</td><td>NA</td><td>NA</td><td>NA</td><td>NA</td><td>NA</td><td>NA</td><td>NA</td><td>NA</td><td>NA</td><td>NA</td><td>NA</td><td>NA</td><td>NA</td><td>0</td><td>NA</td><td>NA</td><td>NA</td></tr><tr><td>10</td><td>23</td><td>0</td><td>NA</td><td>NA</td><td>NA</td><td>NA</td><td>-1.6099595944842358</td><td>1.6099595944842358</td><td>-1.886819772324701</td><td>1.886819772324701</td><td>-0.0555850209540818</td><td>0.0555850209540818</td><td>-0.05955959779269...</td><td>0.059559597792698926</td><td>0</td><td>0</td><td>0</td><td>0</td><td>1</td><td>0</td><td>0</td><td>0</td><td>00-0019596</td><td>T.Brady</td><td>NA</td><td>NA</td><td>NA</td><td>NA</td><td>NA</td><td>NA</td><td>NA</td><td>NA</td><td>NA</td><td>NA</td><td>NA</td><td>NA</td><td>NA</td><td>NA</td><td>NA</td><td>NA</td><td>NA</td><td>NA</td><td>NA</td><td>NA</td><td>NA</td><td>NA</td><td>00-0032146</td><td>B.Dupree</td><td>NA</td><td>NA</td><td>NA</td><td>NA</td><td>NA</td><td>NA</td><td>NA</td><td>NA</td><td>00-0032146</td><td>NA</td><td>B.Dupree</td><td>NA</td><td>NA</td><td>NA</td><td>NA</td><td>NA</td><td>NA</td><td>NA</td><td>NA</td><td>NA</td><td>NA</td><td>NA</td><td>NA</td><td>NA</td><td>NA</td><td>NA</td><td>NA</td><td>NA</td><td>NA</td><td>NA</td><td>NA</td><td>NA</td><td>NA</td><td>NA</td><td>0</td><td>NA</td><td>NA</td><td>NA</td></tr><tr><td>10</td><td>23</td><td>0</td><td>NA</td><td>NA</td><td>NA</td><td>NA</td><td>-1.6099595944842358</td><td>1.6099595944842358</td><td>-1.886819772324701</td><td>1.886819772324701</td><td>-0.0555850209540818</td><td>0.0555850209540818</td><td>-0.05955959779269...</td><td>0.059559597792698926</td><td>0</td><td>0</td><td>0</td><td>0</td><td>0</td><td>0</td><td>0</td><td>0</td><td>NA</td><td>NA</td><td>NA</td><td>NA</td><td>NA</td><td>NA</td><td>NA</td><td>NA</td><td>00-0027793</td><td>A.Brown</td><td>NA</td><td>NA</td><td>00-0029984</td><td>R.Allen</td><td>NA</td><td>NA</td><td>NA</td><td>NA</td><td>NA</td><td>NA</td><td>NA</td><td>NA</td><td>NA</td><td>NA</td><td>NA</td><td>NA</td><td>NA</td><td>NA</td><td>NA</td><td>NA</td><td>NA</td><td>NA</td><td>NA</td><td>NA</td><td>NA</td><td>NA</td><td>NA</td><td>NA</td><td>NA</td><td>NA</td><td>NA</td><td>NA</td><td>NA</td><td>NA</td><td>NA</td><td>NA</td><td>NA</td><td>NA</td><td>NA</td><td>NA</td><td>NA</td><td>NA</td><td>NA</td><td>NA</td><td>NA</td><td>NA</td><td>NA</td><td>NA</td><td>NA</td><td>NA</td><td>0</td><td>NA</td><td>NA</td><td>NA</td></tr><tr><td>10</td><td>6</td><td>6</td><td>NA</td><td>NA</td><td>NA</td><td>NA</td><td>-1.9014794531151766</td><td>1.9014794531151766</td><td>-1.886819772324701</td><td>1.886819772324701</td><td>-0.0651307132084531</td><td>0.0651307132084531</td><td>-0.05955959779269...</td><td>0.059559597792698926</td><td>0</td><td>0</td><td>0</td><td>1</td><td>0</td><td>0</td><td>0</td><td>0</td><td>NA</td><td>NA</td><td>NA</td><td>NA</td><td>00-0024242</td><td>De.Williams</td><td>NA</td><td>NA</td><td>NA</td><td>NA</td><td>NA</td><td>NA</td><td>NA</td><td>NA</td><td>NA</td><td>NA</td><td>NA</td><td>NA</td><td>NA</td><td>NA</td><td>NA</td><td>NA</td><td>NA</td><td>NA</td><td>NA</td><td>NA</td><td>NA</td><td>NA</td><td>NA</td><td>NA</td><td>NA</td><td>NA</td><td>NA</td><td>NA</td><td>NA</td><td>NA</td><td>NA</td><td>NA</td><td>00-0025420</td><td>A.Branch</td><td>00-0031940</td><td>G.Grissom</td><td>NA</td><td>NA</td><td>NA</td><td>NA</td><td>NA</td><td>NA</td><td>NA</td><td>NA</td><td>NA</td><td>NA</td><td>NA</td><td>NA</td><td>NA</td><td>NA</td><td>NA</td><td>NA</td><td>NA</td><td>NA</td><td>0</td><td>NA</td><td>NA</td><td>NA</td></tr><tr><td>4</td><td>5</td><td>-1</td><td>NA</td><td>NA</td><td>NA</td><td>NA</td><td>-0.8685993330621791</td><td>0.8685993330621791</td><td>-1.886819772324701</td><td>1.886819772324701</td><td>-0.03470876205655...</td><td>0.034708762056558096</td><td>-0.05955959779269...</td><td>0.059559597792698926</td><td>0</td><td>0</td><td>0</td><td>1</td><td>0</td><td>0</td><td>0</td><td>0</td><td>NA</td><td>NA</td><td>NA</td><td>NA</td><td>00-0024242</td><td>De.Williams</td><td>NA</td><td>NA</td><td>NA</td><td>NA</td><td>NA</td><td>NA</td><td>NA</td><td>NA</td><td>NA</td><td>NA</td><td>NA</td><td>NA</td><td>NA</td><td>NA</td><td>00-0029585</td><td>C.Jones</td><td>NA</td><td>NA</td><td>NA</td><td>NA</td><td>NA</td><td>NA</td><td>NA</td><td>NA</td><td>NA</td><td>NA</td><td>NA</td><td>NA</td><td>00-0029585</td><td>NA</td><td>C.Jones</td><td>NA</td><td>NA</td><td>NA</td><td>NA</td><td>NA</td><td>NA</td><td>NA</td><td>NA</td><td>NA</td><td>NA</td><td>NA</td><td>NA</td><td>NA</td><td>NA</td><td>NA</td><td>NA</td><td>NA</td><td>NA</td><td>NA</td><td>NA</td><td>NA</td><td>NA</td><td>NA</td><td>0</td><td>NA</td><td>NA</td><td>NA</td></tr>\n",
       "            </table>\n",
       "        "
      ]
     },
     "metadata": {},
     "output_type": "display_data"
    },
    {
     "data": {
      "text/plain": [
       "\u001b[36mtestCols\u001b[39m: \u001b[32mArray\u001b[39m[\u001b[32mString\u001b[39m] = \u001b[33mArray\u001b[39m(\n",
       "  \u001b[32m\"ydstogo\"\u001b[39m,\n",
       "  \u001b[32m\"ydsnet\"\u001b[39m,\n",
       "  \u001b[32m\"yards_gained\"\u001b[39m,\n",
       "  \u001b[32m\"pass_length\"\u001b[39m,\n",
       "  \u001b[32m\"pass_location\"\u001b[39m,\n",
       "  \u001b[32m\"air_yards\"\u001b[39m,\n",
       "  \u001b[32m\"yards_after_catch\"\u001b[39m,\n",
       "  \u001b[32m\"total_home_rush_epa\"\u001b[39m,\n",
       "  \u001b[32m\"total_away_rush_epa\"\u001b[39m,\n",
       "  \u001b[32m\"total_home_pass_epa\"\u001b[39m,\n",
       "  \u001b[32m\"total_away_pass_epa\"\u001b[39m,\n",
       "  \u001b[32m\"total_home_rush_wpa\"\u001b[39m,\n",
       "  \u001b[32m\"total_away_rush_wpa\"\u001b[39m,\n",
       "  \u001b[32m\"total_home_pass_wpa\"\u001b[39m,\n",
       "  \u001b[32m\"total_away_pass_wpa\"\u001b[39m,\n",
       "  \u001b[32m\"first_down_rush\"\u001b[39m,\n",
       "  \u001b[32m\"first_down_pass\"\u001b[39m,\n",
       "  \u001b[32m\"incomplete_pass\"\u001b[39m,\n",
       "  \u001b[32m\"rush_attempt\"\u001b[39m,\n",
       "  \u001b[32m\"pass_attempt\"\u001b[39m,\n",
       "  \u001b[32m\"pass_touchdown\"\u001b[39m,\n",
       "  \u001b[32m\"rush_touchdown\"\u001b[39m,\n",
       "  \u001b[32m\"complete_pass\"\u001b[39m,\n",
       "  \u001b[32m\"passer_player_id\"\u001b[39m,\n",
       "  \u001b[32m\"passer_player_name\"\u001b[39m,\n",
       "  \u001b[32m\"receiver_player_id\"\u001b[39m,\n",
       "  \u001b[32m\"receiver_player_name\"\u001b[39m,\n",
       "  \u001b[32m\"rusher_player_id\"\u001b[39m,\n",
       "  \u001b[32m\"rusher_player_name\"\u001b[39m,\n",
       "  \u001b[32m\"interception_player_id\"\u001b[39m,\n",
       "  \u001b[32m\"interception_player_name\"\u001b[39m,\n",
       "  \u001b[32m\"punt_returner_player_id\"\u001b[39m,\n",
       "  \u001b[32m\"punt_returner_player_name\"\u001b[39m,\n",
       "  \u001b[32m\"kickoff_returner_player_name\"\u001b[39m,\n",
       "  \u001b[32m\"kickoff_returner_player_id\"\u001b[39m,\n",
       "  \u001b[32m\"punter_player_id\"\u001b[39m,\n",
       "  \u001b[32m\"punter_player_name\"\u001b[39m,\n",
       "  \u001b[32m\"kicker_player_name\"\u001b[39m,\n",
       "..."
      ]
     },
     "execution_count": 30,
     "metadata": {},
     "output_type": "execute_result"
    }
   ],
   "source": [
    "val testCols = playByPlay2019.columns\n",
    "    .filter(x => x.contains(\"yds\") || x.contains(\"yards\") || x.contains(\"pass\") || x.contains(\"rush\") || x.contains(\"player\"))\n",
    "    .filterNot(_.contains(\"lateral\"));\n",
    "playByPlay2019.select(testCols.head, testCols.tail: _*).showHTML()"
   ]
  },
  {
   "cell_type": "code",
   "execution_count": 39,
   "metadata": {},
   "outputs": [
    {
     "data": {
      "text/plain": [
       "\u001b[36moffEpa\u001b[39m: \u001b[32mDataFrame\u001b[39m = [posteam: string, n_games: bigint ... 2 more fields]\n",
       "\u001b[36mdefEpa\u001b[39m: \u001b[32mDataFrame\u001b[39m = [defteam: string, n_games: bigint ... 2 more fields]\n",
       "\u001b[36mteamEpa\u001b[39m: \u001b[32mDataset\u001b[39m[\u001b[32mRow\u001b[39m] = [posteam: string, n_games: bigint ... 6 more fields]"
      ]
     },
     "execution_count": 39,
     "metadata": {},
     "output_type": "execute_result"
    }
   ],
   "source": [
    "val offEpa = playByPlay2019\n",
    "    .groupBy(\"posteam\")\n",
    "    .agg(\n",
    "        countDistinct(\"game_id\") as \"n_games\",\n",
    "        sum(\"epa\") as \"off_total_epa\"\n",
    "    ).withColumn(\"off_epa_per_game\", $\"off_total_epa\"/$\"n_games\")\n",
    "val defEpa = playByPlay2019\n",
    "    .groupBy(\"defteam\")\n",
    "    .agg(\n",
    "        countDistinct(\"game_id\") as \"n_games\",\n",
    "        sum(\"epa\") as \"def_total_epa\"\n",
    "    ).withColumn(\"def_epa_per_game\", -$\"def_total_epa\"/$\"n_games\")\n",
    "val teamEpa = offEpa.join(defEpa, $\"posteam\" === $\"defteam\").cache"
   ]
  },
  {
   "cell_type": "code",
   "execution_count": 40,
   "metadata": {},
   "outputs": [
    {
     "data": {
      "text/html": [
       "<div>\n",
       "  <span style=\"float: left;\">show at cmd39.sc:1</span>\n",
       "</div>\n"
      ]
     },
     "metadata": {},
     "output_type": "display_data"
    },
    {
     "data": {
      "text/html": [
       "<div class=\"progress\">\n",
       "  <div class=\"progress-bar\" role=\"progressbar\" style=\"background-color: blue; width: 100%; word-wrap: normal; white-space: nowrap; text-align: center; color: white\" aria-valuenow=\"100\" aria-valuemin=\"0\" aria-valuemax=\"100\">\n",
       "    1 / 1\n",
       "  </div>\n",
       "  <div class=\"progress-bar\" role=\"progressbar\" style=\"background-color: red; width: 0%\" aria-valuenow=\"0\" aria-valuemin=\"0\" aria-valuemax=\"100\"></div>\n",
       "</div>\n"
      ]
     },
     "metadata": {},
     "output_type": "display_data"
    },
    {
     "data": {
      "text/html": [
       "<div>\n",
       "  <span style=\"float: left;\">show at cmd39.sc:1</span>\n",
       "</div>\n"
      ]
     },
     "metadata": {},
     "output_type": "display_data"
    },
    {
     "data": {
      "text/html": [
       "<div class=\"progress\">\n",
       "  <div class=\"progress-bar\" role=\"progressbar\" style=\"background-color: blue; width: 100%; word-wrap: normal; white-space: nowrap; text-align: center; color: white\" aria-valuenow=\"100\" aria-valuemin=\"0\" aria-valuemax=\"100\">\n",
       "    4 / 4\n",
       "  </div>\n",
       "  <div class=\"progress-bar\" role=\"progressbar\" style=\"background-color: red; width: 0%\" aria-valuenow=\"0\" aria-valuemin=\"0\" aria-valuemax=\"100\"></div>\n",
       "</div>\n"
      ]
     },
     "metadata": {},
     "output_type": "display_data"
    },
    {
     "data": {
      "text/html": [
       "<div>\n",
       "  <span style=\"float: left;\">show at cmd39.sc:1</span>\n",
       "</div>\n"
      ]
     },
     "metadata": {},
     "output_type": "display_data"
    },
    {
     "data": {
      "text/html": [
       "<div class=\"progress\">\n",
       "  <div class=\"progress-bar\" role=\"progressbar\" style=\"background-color: blue; width: 100%; word-wrap: normal; white-space: nowrap; text-align: center; color: white\" aria-valuenow=\"100\" aria-valuemin=\"0\" aria-valuemax=\"100\">\n",
       "    20 / 20\n",
       "  </div>\n",
       "  <div class=\"progress-bar\" role=\"progressbar\" style=\"background-color: red; width: 0%\" aria-valuenow=\"0\" aria-valuemin=\"0\" aria-valuemax=\"100\"></div>\n",
       "</div>\n"
      ]
     },
     "metadata": {},
     "output_type": "display_data"
    },
    {
     "data": {
      "text/html": [
       "<div>\n",
       "  <span style=\"float: left;\">show at cmd39.sc:1</span>\n",
       "</div>\n"
      ]
     },
     "metadata": {},
     "output_type": "display_data"
    },
    {
     "data": {
      "text/html": [
       "<div class=\"progress\">\n",
       "  <div class=\"progress-bar\" role=\"progressbar\" style=\"background-color: blue; width: 100%; word-wrap: normal; white-space: nowrap; text-align: center; color: white\" aria-valuenow=\"100\" aria-valuemin=\"0\" aria-valuemax=\"100\">\n",
       "    94 / 94\n",
       "  </div>\n",
       "  <div class=\"progress-bar\" role=\"progressbar\" style=\"background-color: red; width: 0%\" aria-valuenow=\"0\" aria-valuemin=\"0\" aria-valuemax=\"100\"></div>\n",
       "</div>\n"
      ]
     },
     "metadata": {},
     "output_type": "display_data"
    },
    {
     "name": "stdout",
     "output_type": "stream",
     "text": [
      "+-------+-------+-------------------+--------------------+-------+-------+-------------------+--------------------+\n",
      "|posteam|n_games|      off_total_epa|    off_epa_per_game|defteam|n_games|      def_total_epa|    def_epa_per_game|\n",
      "+-------+-------+-------------------+--------------------+-------+-------+-------------------+--------------------+\n",
      "|    NYJ|    176| -748.0090033013352|  -4.250051155121223|    NYJ|    176|-250.77222472769537|  1.4248421859528146|\n",
      "|    CAR|    176|  46.96721348177905| 0.26685916751010824|    CAR|    176|  129.5403939288832| -0.7360249655050182|\n",
      "|     LA|     64| 214.36348758132652|   3.349429493458227|     LA|     64|  19.96122720983879| -0.3118941751537311|\n",
      "|     TB|    176| -327.9170150393343| -1.8631648581780356|     TB|    176|  552.9399312801525|  -3.141704155000866|\n",
      "|    OAK|    176|-309.88359735790453| -1.7607022577153666|    OAK|    176|  920.5027663135909|  -5.230129354054494|\n",
      "|    DET|    176| 100.54614125066978|  0.5712848934697147|    DET|    176|  521.5758109663776| -2.9634989259453275|\n",
      "|    TEN|    176| -66.84087985614643|-0.37977772645537744|    TEN|    176|  400.9222146893027| -2.2779671289164924|\n",
      "|     NA|   2786|                0.0|                 0.0|     NA|   2786|                0.0|                -0.0|\n",
      "|    BUF|    176| -553.7303380288012|   -3.14619510243637|    BUF|    176| -92.09287129117357|  0.5232549505180316|\n",
      "|    BAL|    176| 454.62160982157616|  2.5830773285316826|    BAL|    176| -557.5133066498356|  3.1676892423286116|\n",
      "|    LAC|     48| 222.78672513476832|    4.64139010697434|    LAC|     48| 18.202073438804383|-0.37920986330842466|\n",
      "|     NE|    176|  1654.046610593148|   9.397992105642887|     NE|    176|-366.45617491129497|  2.0821373574505397|\n",
      "|    JAC|    113| -556.4657086530826|   -4.92447529781489|    JAC|    113| 424.66724477346867| -3.7581172103846785|\n",
      "|     GB|    176| 1074.4742469446944|   6.104967312185764|     GB|    176|  168.8356594651041| -0.9592935196880915|\n",
      "|    DEN|    176|  108.7465079680523|  0.6178778861821154|    DEN|    176| -197.4311645278555|  1.1217679802719063|\n",
      "|    ARI|    176| -620.7405193030398|  -3.526934768767272|    ARI|    176|-254.85346125131792|  1.4480310298370336|\n",
      "|     SF|    176| -50.00008335609573| -0.2840913827050894|     SF|    176|-186.03350747894157|  1.0570085652212589|\n",
      "|     KC|    176| 465.13416192517644|    2.64280773821123|     KC|    176|   65.0121011005452|-0.36938693807127954|\n",
      "|    SEA|    176| 334.56554306365547|  1.9009405855889516|    SEA|    176|-385.81625548795057|   2.192137815272446|\n",
      "|    CIN|    176|-56.332688335777725| -0.3200720928169189|    CIN|    176| -88.18112787616884|  0.5010291356600503|\n",
      "+-------+-------+-------------------+--------------------+-------+-------+-------------------+--------------------+\n",
      "only showing top 20 rows\n",
      "\n"
     ]
    }
   ],
   "source": [
    "teamEpa.show"
   ]
  },
  {
   "cell_type": "code",
   "execution_count": null,
   "metadata": {},
   "outputs": [],
   "source": []
  }
 ],
 "metadata": {
  "kernelspec": {
   "display_name": "Scala (2.12)",
   "language": "scala",
   "name": "212"
  },
  "language_info": {
   "codemirror_mode": "text/x-scala",
   "file_extension": ".sc",
   "mimetype": "text/x-scala",
   "name": "scala",
   "nbconvert_exporter": "script",
   "version": "2.12.11"
  }
 },
 "nbformat": 4,
 "nbformat_minor": 2
}
